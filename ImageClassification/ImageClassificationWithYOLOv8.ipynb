{
 "cells": [
  {
   "cell_type": "code",
   "execution_count": null,
   "metadata": {},
   "outputs": [],
   "source": [
    "from ultralytics import YOLO"
   ]
  },
  {
   "cell_type": "code",
   "execution_count": null,
   "metadata": {},
   "outputs": [],
   "source": [
    "base_path = \"../data/weather_classifier/\"\n",
    "train_path = \"../data/weather_classifier/train/\"\n",
    "val_path = \"../data/weather_classifier/val/\"\n",
    "classes = [\"cloudy\", \"rain\", \"shine\", \"sunrise\"]"
   ]
  },
  {
   "cell_type": "code",
   "execution_count": null,
   "metadata": {},
   "outputs": [],
   "source": []
  },
  {
   "cell_type": "code",
   "execution_count": null,
   "metadata": {},
   "outputs": [],
   "source": [
    "import os\n",
    "def create_folders():\n",
    "    if not os.path.exists(base_path):\n",
    "        os.mkdir(base_path)\n",
    "    if not os.path.exists(train_path):\n",
    "        os.mkdir(train_path)\n",
    "    if not os.path.exists(val_path):\n",
    "        os.mkdir(val_path)\n",
    "    for cls in classes:\n",
    "        if not os.path.exists(os.path.join(train_path, cls)):\n",
    "            os.mkdir(os.path.join(train_path, cls))\n",
    "        if not os.path.exists(os.path.join(val_path, cls)):\n",
    "            os.mkdir(os.path.join(val_path, cls))"
   ]
  },
  {
   "cell_type": "code",
   "execution_count": null,
   "metadata": {},
   "outputs": [],
   "source": [
    "create_folders()"
   ]
  },
  {
   "cell_type": "code",
   "execution_count": null,
   "metadata": {},
   "outputs": [],
   "source": [
    "# split data\n",
    "import shutil\n",
    "import random\n",
    "def split_data():\n",
    "    for cls in classes:\n",
    "        cls_train_path = os.path.join(train_path, cls)\n",
    "        cls_val_path = os.path.join(val_path, cls)\n",
    "        all_files = os.listdir(cls_train_path)\n",
    "        val_files_num = int(0.2 * len(all_files))\n",
    "        val_files = random.sample(all_files, val_files_num)\n",
    "        print(val_files)\n",
    "        for file in val_files:\n",
    "            shutil.move(os.path.join(cls_train_path, file), cls_val_path)\n",
    "split_data()"
   ]
  },
  {
   "cell_type": "code",
   "execution_count": null,
   "metadata": {},
   "outputs": [],
   "source": [
    "model = YOLO('../models/last.pt')"
   ]
  },
  {
   "cell_type": "code",
   "execution_count": null,
   "metadata": {},
   "outputs": [],
   "source": [
    "save_path = \"/home/chess/Documents/Code/Learning/CV/ComputerVision/results\""
   ]
  },
  {
   "cell_type": "code",
   "execution_count": null,
   "metadata": {},
   "outputs": [],
   "source": [
    "model.train(data=base_path, epochs=10, imgsz=64, resume=True, save_dir=save_path)"
   ]
  },
  {
   "cell_type": "code",
   "execution_count": null,
   "metadata": {},
   "outputs": [],
   "source": [
    "# model.predict(image_path)\n",
    "# resust.probs\n",
    "# res = prediction_names[np.argmax(probs)]"
   ]
  },
  {
   "cell_type": "code",
   "execution_count": null,
   "metadata": {},
   "outputs": [],
   "source": []
  },
  {
   "cell_type": "code",
   "execution_count": null,
   "metadata": {},
   "outputs": [],
   "source": []
  }
 ],
 "metadata": {
  "kernelspec": {
   "display_name": "Python 3",
   "language": "python",
   "name": "python3"
  },
  "language_info": {
   "codemirror_mode": {
    "name": "ipython",
    "version": 3
   },
   "file_extension": ".py",
   "mimetype": "text/x-python",
   "name": "python",
   "nbconvert_exporter": "python",
   "pygments_lexer": "ipython3",
   "version": "3.11.6"
  }
 },
 "nbformat": 4,
 "nbformat_minor": 2
}
