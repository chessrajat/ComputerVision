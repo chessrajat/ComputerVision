{
 "cells": [
  {
   "cell_type": "code",
   "execution_count": 2,
   "metadata": {},
   "outputs": [],
   "source": [
    "import os\n",
    "import cv2"
   ]
  },
  {
   "cell_type": "code",
   "execution_count": 3,
   "metadata": {},
   "outputs": [],
   "source": [
    "input_dir = '/home/chess/Documents/data/temp/segment/masks'\n",
    "output_dir = '/home/chess/Documents/data/temp/segment/labels'"
   ]
  },
  {
   "cell_type": "code",
   "execution_count": 5,
   "metadata": {},
   "outputs": [],
   "source": [
    "for j in os.listdir(input_dir):\n",
    "    image_path = os.path.join(input_dir, j)\n",
    "    # load the binary mask and get its contours\n",
    "    mask = cv2.imread(image_path, cv2.IMREAD_GRAYSCALE)\n",
    "    _, mask = cv2.threshold(mask, 1, 255, cv2.THRESH_BINARY)\n",
    "\n",
    "    H, W = mask.shape\n",
    "    contours, hierarchy = cv2.findContours(mask, cv2.RETR_EXTERNAL, cv2.CHAIN_APPROX_SIMPLE)\n",
    "\n",
    "    # convert the contours to polygons\n",
    "    polygons = []\n",
    "    for cnt in contours:\n",
    "        if cv2.contourArea(cnt) > 200:\n",
    "            polygon = []\n",
    "            for point in cnt:\n",
    "                x, y = point[0]\n",
    "                polygon.append(x / W)\n",
    "                polygon.append(y / H)\n",
    "            polygons.append(polygon)\n",
    "\n",
    "    # print the polygons\n",
    "    with open('{}.txt'.format(os.path.join(output_dir, j)[:-4]), 'w') as f:\n",
    "        for polygon in polygons:\n",
    "            for p_, p in enumerate(polygon):\n",
    "                if p_ == len(polygon) - 1:\n",
    "                    f.write('{}\\n'.format(p))\n",
    "                elif p_ == 0:\n",
    "                    f.write('0 {} '.format(p))\n",
    "                else:\n",
    "                    f.write('{} '.format(p))\n",
    "\n",
    "        f.close()"
   ]
  },
  {
   "cell_type": "markdown",
   "metadata": {},
   "source": [
    "Remove extra images that are not labelled"
   ]
  },
  {
   "cell_type": "code",
   "execution_count": 8,
   "metadata": {},
   "outputs": [],
   "source": [
    "images_path = \"/home/chess/Documents/data/ML_raw_data/ATCC/batch4/images\"\n",
    "labels_path = \"/home/chess/Documents/data/ML_raw_data/ATCC/batch4/labels\""
   ]
  },
  {
   "cell_type": "code",
   "execution_count": 9,
   "metadata": {},
   "outputs": [
    {
     "name": "stdout",
     "output_type": "stream",
     "text": [
      "['067c5708-01e0-4a39-bdc1-3f5af7c9f650', '71a99788-7c9d-480a-be3a-033284f0d19f', '60079ea0-8392-472f-9539-7255065ed1f9', '757980e4-e8fc-4844-a460-ddeb54e0bf79', 'f4a6d5f5-61cd-47c6-893b-780504aaefc8', 'b86bf016-1c86-4006-a90d-971211365e1c', '6edf42e5-e5c4-497d-a75c-78e892e3093b', '835a6d95-eae7-4f95-8f06-800cbd02ed79', '8e80bd5d-0c03-41a5-a8c3-dddb18dd61c4', '787a7e5a-682e-43be-b913-65d3e8c0dbe8', 'ff935474-bf1e-4b12-a079-5ed358345c49', 'f86bf601-5de1-4dc2-9212-f51722bdf178', 'c4f76f8d-7a25-4595-be7c-5467a7119ba4', '254fa990-2bdd-44b8-88b3-59b0a53b8b47', '6ea42a34-85af-4c66-8bc9-dfa0f85c06e4', '8a5fc2a4-124a-44f4-9a44-b5f601cd99eb', 'b8d9b69d-c313-4ebd-9874-d39f91254bda', 'b8e143d6-ead0-4d32-ae8d-ab08cda58f3b', '236cc3f8-ab9c-4c3e-aa6f-ae11dbee1854', 'b86dc58a-92da-412d-abdd-5d4698422ff9', '4cfdf1c4-5021-4150-b12b-bbbad441093d', '0c3caeff-9219-4300-8233-46abc2f9b7f4', 'f90739ec-87cb-4b33-961c-096002c20e79', 'eb337947-bf07-4085-8a6e-95a8e270b148', 'f01b09ef-c2b4-498c-8691-eb9d35452181', 'a1755e8a-2479-499b-9827-19e4396a6a1f', '6dda30eb-568e-4c34-aaf9-119952c7ba34', '46c89fc8-b5d7-4ffb-8347-0925af1a787b', '4a4b0f8c-3496-468e-abf0-03e101bbbbd0', '23323195-e01b-43a2-a6d3-ae1a53e38219', '0942b3a3-79d0-41d4-8a59-99674d7234a0', 'f03fd59e-64b2-49d9-a953-1cf2bee2cf88', 'd7a6795e-b02a-4fca-999a-4ea45f1a3c3b', '053e02ee-cf88-41e5-8182-c57ce5499919', 'cde159c7-4dd1-4108-878f-4e79deeeeb86', '35ef22cc-0fe3-4daf-bbb5-f42a07b3549e', 'd4c3c4ab-7858-411e-a350-5803312ef99d', '5238c1e8-e098-405f-ba1a-26be1697d3a9', 'b676c5e2-b826-4046-82f7-69ce18785425', '977a1481-fa2e-40f3-b198-618c9591362e', 'ead4b5e7-8bc6-49df-9ba1-3b15052600d0', '71d2f414-28aa-4d27-8200-156dcf0de267', 'aa5ec3fb-22e6-4dd8-a47a-fcb5a6e02b59', '63ff6c8e-4dc1-4633-a628-0b69e425abaf', '33122d36-fb52-46aa-83f9-6b87f65e9e9e', '4fdcba24-4271-4053-b6af-fee1040bf8dd', 'e24e05bb-b0e4-49ab-8196-d81ab4f0b856', 'def28c7e-deb3-494a-89ec-a8edfb9ca8e3', 'f43b753f-2470-4c89-a341-5bf198707eb0', '833b6648-2080-4935-9bfa-83f5b90a780d', '161eaf7e-a6b6-402e-8193-83b084fc56f4', 'ca233e25-3eed-45e7-85fd-63612cdf90f4', '8b6b97cb-0c13-4c22-982b-cd8361182d3f', 'b6f7da1c-24c0-4f16-84d6-0126cbcef0af', '21f07a66-fb39-4e85-8178-d7744c2266d4', 'fccc59fe-007c-4652-8d10-9f6396caad3e', '5efa5b32-902a-4a74-8c10-e4b9dd46c19e', '6578a0ef-8f8a-45ab-acca-8ce7a277fb68', 'd2a3b285-285d-4020-8dcc-2b026f89a462', 'c1fb6cc3-875d-42ab-b26e-ca88e5131fd3', 'f3e7266d-47fe-4025-a02c-b9397b587ff5', '329d650f-f715-4414-bc57-45a7a371a687', 'd731bcb4-b334-4e3d-9644-b999b6ddee8b', '7f8ec137-106a-4452-acac-e242d1cd8f41', 'e0cc7ea7-5a48-4102-be11-befe0ad2eee9', 'f8a151fd-396a-4d31-8042-b7f553da4ef1', 'e37d8531-a66b-43b2-85bc-a3f848bd3e57', 'e3ffe39b-a67a-4b83-9423-a62ad1201e74', '9953f077-debe-4e88-9587-0be32f5173ad', '66262416-cd88-4b95-9e6d-fa95109624cc', 'c591df89-7a08-42be-9b6a-5376c1be5c6a', '8e585364-1224-4d1d-95e8-7ed594d95bcf', 'c42c1d86-2286-49da-91bc-4983f10238ed', '6886fb65-401e-4dec-876e-af476c7842ba', '9c3706fb-5b69-4da1-bd6a-0cfe43d7dffd', '1b25c582-06a6-4251-8b83-b7ed29fc5d32', '714801d4-250b-46c3-9064-03077f20ccee', 'ba9d0f3c-7d8d-48b2-93b7-a9b131a0842d', 'db323cb0-7ab8-47f3-b286-cc062b508b8c', 'a5fcec88-a10c-4818-b0ae-d439a8cf925e', 'd9dcaeb8-3c57-40c5-8df6-1e4ad7262e3e', '80802ce4-4daf-4c39-9edd-ae009cca46bd', 'c84f191e-c229-4d00-89ad-f9c0e2a67773', 'c9272d6c-514d-46f6-8c93-c711ddd16358', '8f690e04-a28d-4fc4-8cc6-6f836064a6ee', '19c66105-bd0e-49e9-8b0e-de133a7ed1ed', '096ca1d3-d33a-401c-b29f-f66054345745', '1226d13e-7551-42bb-b509-23461adb3b94', '8d7588a7-036f-4eaa-bed9-3d2767aff94a', '86d30a68-10e8-43d2-bf70-1c03022c6e1a', '78fe7b35-2262-43bb-9553-b1f3585dbc2e', 'c6eac5b0-d3f5-432b-9d35-2af2f0e55186', 'c80d540a-2212-48f1-babe-0c169fc26655', '04059bd3-3d2c-4773-b39e-d7a558685445', 'f7b8bcb2-dc98-47fe-a634-57c8ef95c743', '274216ac-312c-4247-ac4d-6a0cc606df02', 'cf299e72-d5dd-4af3-8838-efdf28427d89', '75992b54-7f8b-40ef-929b-24c5be5480d4', '11a0cf01-641d-4a60-a913-f334bbaaa540', '3c5b426a-4ad3-4e4c-a01f-730b139dfd78', '616276eb-7df3-4f62-8f82-0c3072384ade', 'c510ad43-2376-46ab-a778-242113db38ae', '1cee8cd5-ab36-4c92-8de3-023cc2c87d37', 'eadad471-05ec-4cd3-9c9f-efc13795ae8d', '4745d907-3688-4ea1-aaf7-c0b129e170f3', 'a1287ca4-0573-4f90-801a-5b08162073aa', 'a0e01d95-a02b-42d5-bd1e-7872a876e219', 'a85e7145-def3-4e3e-8695-fa1dfefbf96b', '9e748210-686a-4dd7-bb1c-aa240e0fefd6', '22dbeecb-3a78-43f3-a81d-775e96b1aa56', '1d93ee1e-4388-4e59-9eee-45321b6dd64c', '19fb3c9b-d960-439c-bfaa-0a82b4b0a48a', 'adb74ee2-fd39-491c-9536-6d6bb27c0ce3', 'd1f50fda-87b9-4fae-8e18-2b2ab733047a', 'c5a3b9f8-6188-47e9-9acf-59cbeb3659bf', 'cd7ebab9-8073-478a-bc6f-06156d01e799', 'e924f295-96bf-4f5a-9113-326ceeb34a38', '55cb6cac-0c85-4174-9a8d-b137b1069774', '09c61fac-b850-42aa-82b8-3e372c1b2b68', '2d3228a3-5f14-4ade-958a-fecd521f0360', 'e9e90be4-b7dd-4828-9463-b9810fca698a', '48ab29ea-219d-4d40-ab70-9d4079dc7273', '535717da-5997-452b-a4ef-4f7f80fa1ec8', '0feb0e3e-32e7-4ab0-8baa-884ce548cb8d', '8740c2da-77a9-42db-8386-00323ddf3a27', 'fcc91a46-7fec-46bb-8159-5cf1871d92d1', '9bba45c7-b8e6-45a1-8de1-85f5450c9b99', '7b70559f-47e8-4b61-8959-85dfc3423edc', '1a6178ec-ba7a-4047-8558-f2d875f3f51c', 'b4f1687b-82a7-4e99-9775-6f59db5f042b', '9834bba5-a720-46cb-9125-cf383bc40fb0', 'ca0e66e0-bda8-4e23-aed4-f4745da92c44', 'c9dea0f4-6195-44d9-98b7-c366e8f14157', '6f27ba90-3a6b-4656-849c-c28fa09d0a4b', 'a982face-fbe0-4e91-bbc3-6820655171bc', '14c434b3-3636-4bdd-aa26-cda9cadcc17e', '3f8edd79-3688-4352-80f4-30f14de27621', '5ca223f5-42f6-4178-91f0-f850ab06d778', '15382bf3-049d-41ac-8767-2fdbed9c99f9', '025a6b8e-1d0a-44f2-8a63-1f2b0f9fc2a0', '1b7db8b1-0741-430f-a331-b15611d748c4', '54eb0570-da1b-4db0-9b8f-64679dd16e16', '4ba1c4b7-5546-45c7-9802-558e6076a7d3', '342ffa77-0d99-4557-adc4-7e6bb9fec4bf', 'a1266807-34e9-4695-922c-3180af3be847', 'da4bbd5a-1765-4b57-992a-0530872b03b2', 'f07853ab-6826-4a0e-82bb-dd96fa9c6b69', 'e8ce389e-453b-4285-b9df-de330d073e81', '9d1d2b4b-f334-4989-aea6-553cf00c9a0b', '26355c51-eb3a-4ea0-acff-a7a53637ec36', '0cdfa695-251d-43f3-aa83-a5d80215e1b9', '883a83c1-20d2-4a44-9634-1fbee63d8930', '2a03d328-59d2-4a5a-a443-4ec90a7b3637', '7ff8bd67-061a-40c4-94d5-0f9bd78f8864', '8f615d13-e1f3-4e5d-b55e-c99627aee510', '33eb41e4-9059-4ea8-91a4-aa884d0897e2', '1bd245e7-262d-45f8-8a2e-d77a55255163', 'b7389a34-be1e-47c6-b50b-93c3b70548dc', '994f9769-f09f-441f-8adb-c036a8cc9e98', 'b2ce173a-f077-4991-9f6e-562b9a09e510', '5ff6a6b2-27b8-4adc-a11a-534194c7ea9f', '54fabed0-9a6a-4130-b555-7c176ec3cd7a', '0e115440-c4b0-48d0-aeee-6790aca02cfa', 'e7cd9926-5906-446c-b063-438285315e5b', 'ee44308f-c847-44f5-879a-8ae808fa8235', 'f42db7c6-4f66-480f-b63b-18f884e67faa', 'ddfb1a60-14ca-4d9c-8878-4148fb27e24d', '95a03551-6883-4211-82a6-49129402ba7f', '70525d93-943c-41a8-ae06-0b426cdb46e3', 'eeb83c7d-8289-464c-9023-623d3db6356d', '29ae08a4-ebad-4180-b26d-0a59d13845f9', '3be2169a-f952-4c0b-ad4e-bbaad1d6ec18', '9c77c352-ec16-44db-bf89-2c372dd51db9', '9b4b0383-7b63-46ae-80c2-f11b1518c504', '580e3747-0229-44bd-98b6-f5aae5039420', '36e38f53-a75c-4e24-938a-1b84f134a1e2', '47958b5a-2362-4ca0-968c-95fd6e5f0713', '69c717dc-a31b-4c42-b2b0-e99e2e37516c', 'dbeb25df-66f0-4941-83d9-b1855e5dfbd6', '210cd0f4-df92-4c1b-8e30-00d08feb81e5', '437ef49c-5243-4e2c-b9d4-bd0fe8651d64', '2f229953-34f7-41a5-868c-8a2da02f83d2', '19f897df-eadc-432c-b43c-3b4e6f6f3804', '26b3ce19-7523-475f-8569-35d1b9754567', '2f650571-103c-4007-97a4-33ae2d825a6f', 'a8afc0b0-a74c-4d4f-8796-9eae3efcb9aa', '2a71bedd-9274-466b-a9bb-fff630caa1a6', '4db4dece-e1b1-4de3-a3a9-190d46631864', 'c005566b-13b5-484b-8835-d64f00960fec', '930d1386-4893-44f9-b3ab-ec44fa023b78', '7f9fcbc2-eafe-43e4-ab52-6c7ea5d6f54c', '1c994984-6708-406f-86b2-33b52bee9a3b', '73b9d2e3-c01d-4dee-bb43-a78126309b15', 'a5bd700e-bc36-4070-9948-1ec4d5b0702a', 'bc01b9bf-11e4-4c3b-8a2e-5c9b46fc0853', 'e1f82c08-b45b-48b9-819e-2d0277fc22a6', 'b1967f05-fa94-4caf-bf1c-d278f4a1b4d9', '77ecf43d-bb26-4819-a860-3884d805bc88', '320d39d8-eb29-4824-aea0-645e549c6f5d', '8f2cf7e5-d05a-43c4-a4cd-52457a8e9e13', '3206a6cb-8362-4d3a-bba4-c144076869ce', '800bb068-7b79-495f-8195-b494f4186b00', 'f03c0526-c585-475d-b512-73de38c10ff4', 'b474ff00-725d-4f7f-9d9b-3249be32b4b4', 'b1ea1264-b9c7-46ab-9646-b9e9ea98e70d', '476f79ed-7093-420c-8918-63cdf6f272ea', '8e25e5d0-74bc-4642-a9ce-6a47db0241e7', '4cc880ee-3b6d-4955-a4f7-0261e2611200', '1f02ca1e-9c84-4091-8408-e00d525803cc', '5aba8d88-1edd-474f-8adc-94925d2b36f8', '66b47570-acb7-45b3-bc68-71848f19c71e', '1d1cf0a3-6f68-4e06-aa98-aefa71318a81', '3d339d13-eb6b-4a9d-be06-4a681453012d', '921a7702-fa36-4831-b4cb-dadffc718ce0', 'b5a6d75b-3705-49e5-a011-86dab35e991d', '6a1168cd-5c65-49c8-9907-2bf71b162854', 'dee6ec73-83ac-44cf-90e2-8e647979cfcf', 'adf222d7-3d5b-4c79-84ad-a118c5d0b8f3', 'bf75bfcc-9251-4512-82a0-b2a59215ac74', 'c4c2999d-af1c-4e29-8599-54cd08bf52a1', '5c9fb918-1da4-4873-9def-3e33168c476c', 'b714462b-7ec1-4145-8f57-bf17ffac2752', '878efe76-42ac-44ab-b1af-eb39facf4eb7', 'a4b6e953-dc22-4ec3-848a-c255e4b092a6', '0b5050a6-df05-4e11-ad17-4af61abb38f8', 'bc3fda1e-f4e6-4619-8035-8b5a32861395', 'aaef1684-d866-4c23-ba05-43b956caeb71', 'd7e411b0-d798-473b-b773-aecc33239f9d', '37b8d26d-3e41-44d1-b3ae-242147931979', 'bfabe0ba-be2d-4658-8002-1bc353cb5022', 'bb8d3f9c-5343-4b9a-9c18-403f2ad72686', '959501ec-4112-46e8-b8d5-58faf873ed86', '7560b883-0c89-4c3c-8424-d665158fa055', '9f650b81-3df3-44f9-a07d-0aa4e9e3c3d4', '2bf14965-7953-4cbf-aefa-650a8f02fdb2', 'bf121578-b11e-4720-85d9-39338c5970e9', '7cd75040-3702-4d4a-9134-8604ff4198de', '7c35da34-afef-4a28-91ee-9defb70ac7a0', '5ea7d062-ec52-45d3-8e9a-691ff601c974', 'd4de3899-5947-4d0b-a107-e7d65ecf1d0c', '64e3ba7a-7924-48eb-b967-512b70f24ce8', '97c05d1b-fc1b-4603-ba4f-fcf1e0115d69', '443f009f-dbf3-4068-b971-8546eee064ee', 'ad305616-fb5c-4f6b-9428-2049db205ae8', '97eb927b-634d-4380-9fa0-17e4ef0e826e', 'b873465a-48e6-4224-ae9f-d927a719fb49', 'cf110c5f-63b5-4c5d-b7db-7dbcee51470a', '1cd79175-c280-4233-8044-a1471c633424', 'f2efc130-baac-4276-827f-ab66af8f2d22', '3d08d177-951a-41ea-85e6-b13fd7c7a326', '812f0409-a58b-4864-9e52-aa09222a3b41', 'b1cbe1ea-6114-48e9-8565-4544447630ea', 'cf029781-a1c5-4958-90dc-c31baec89b6b', '41756f38-584a-43c1-96c5-a3bc90322d3c', 'eda06d12-a70c-4af6-852a-72758a891546', '2b14153f-0fab-43f6-9a48-4742064681b0', '3172051b-3e67-44b2-b1eb-9bfe61dd7820', '1509d507-3433-46fb-9017-cb090843eb5e', 'b0923274-9f3a-4922-8e9d-27997cb6edf2', '30aaf994-17d2-42c8-95f0-13309b62e410', 'cf747164-8d14-4134-ae45-0e2713e5103f', '8ce12276-587e-454a-8a2b-5dabc68e7426', 'ec03c422-4713-4b7c-bc45-13f19bc8bd6d', '78530ea3-f2cf-46f8-92e1-42107353f715', '10fd196a-e0d7-4e5a-aa73-7094d63f1ba4', 'c0fbb616-c0d9-4a2e-933e-d5c24a1c7a2a', '32755999-256e-4b2d-8190-1cbadb819fde', 'd152ee77-0056-4d0d-af1e-ac00ef86fc90', '2d6568c8-4b01-4aec-924c-4ae796183b3e', '8521714a-a5fb-492d-9109-17e90615100f', '4b2d46ac-3e6b-49f8-8c63-37687753019d', 'c8901e58-611b-4da6-af27-b8ff000150db', '8c01974f-7a95-46e0-b0b3-29bc3d2952a1', '5484d5b0-3b48-4e77-b631-581d567ba665', 'a7709dfd-f9b1-4e37-b6d6-0f86800e24d7', 'b09de0cf-6f88-4f88-812c-7bb35db5b0de', 'c22729c1-cb13-42ff-81df-1e8b7709fb50', 'c8f1dfd7-74ef-4d2f-9746-ef7e81bab87e', 'ba768ef8-6a53-411a-93be-2831cba69d36', 'ef298b82-1de8-4cd0-9494-6a2f3452174e', '96430fe1-2a08-480e-b94f-5703841c7bc6', '4e47fb7b-aae9-4dce-b275-b5f1679c21dc', '36a922ad-6ce3-4332-bba1-5600d35d6fee', 'f3859863-6db9-4b9b-837c-47a1893a0acc', '4b448d8a-464f-442d-9050-502f09363f4b', 'f3322dbd-e5a0-4225-a2eb-db7bdc24f7bf', 'a756cc88-0c3c-484d-bd30-5a1320874e69', 'adcc8fac-d8be-49b5-9918-9398f72fdab8', '52b23d85-56ac-442b-8561-0a886f6f85e5', '91d019ff-39a1-4204-bb7a-198010b65b1e', '22d285f4-5fc0-47e0-b1ef-a3ba40f175ef', '5fd0c84c-c85a-476e-acad-2b742d332aad', '6bc20b92-e5ee-4cb4-a8d8-650e7c1aab7a', '73e0fd5d-23a3-4606-ab40-d5a4bdcdb15b', '7dc0d0b6-f551-43a4-9790-d616f5690597', '9b5ee2a6-eda2-4397-8073-c8778aec0bee', 'e1089df8-32d6-4711-b691-038433334af4', '76deffc8-0dfe-4bb9-b67c-45cf960b36a3', 'e59e6acf-ec14-41b6-b281-d7b06b17c71c', '0b893908-c7f7-4d4c-a7cd-42445f67cb96', 'dad2e033-bcb1-4be8-bfd4-6ddfe3a4b1a9', '031cc5f1-a2b3-470b-a009-1c63690e92af', '0efc9615-6af7-44b6-a978-c3b3400c83e9', 'c11aa4e7-76b6-4922-b03e-ecfd3f5b19a7', '12f7be68-e822-4728-9543-c20b1a780fbd', '4033c713-5903-448b-a670-03ef9c2ee598', '4d29c429-27af-46de-b4b2-2f08e584b4ab', '57162e04-fa1f-4531-aa94-e1c2a985d8e8', 'be605f3b-5dd8-442d-9e3a-69a1e79802cc', 'b12568d0-763a-4748-bd57-700c10204cd4', 'ceb5bb4e-4896-4a42-96e3-6e7684cca206', 'e885e45c-0a96-413d-b8a8-0442b4d1d66e', '5bb4728a-fd69-4bd9-a3fd-427c4cd96387', 'fefc177e-883d-4a5c-973f-070ee4983f85', '3bdcd2cf-63b6-4779-afd4-4cda004b44d8', 'dac4a25d-22dc-4e88-b44d-e526cb79d5f5', '5d8ddcad-6216-4c1a-8b9c-5b1588a75cdd', 'f56d1e52-a038-43d1-bac8-130d2dca1823', 'd31392e5-6f83-43ca-8370-929dd6d18d33', '3ac4c3d1-8370-4e07-8d00-b40a74368653', '65096928-971e-4f0f-858e-9382b0298ce2', '768aa13d-5bc9-44dc-9f49-10c74b7a0f1c', '801b6b37-8807-4ffc-826a-3263c42f408b', 'b348dc67-ecda-400e-86e1-82276be0f7a7', '896f1c68-c141-4f71-8a8f-6c316163c0e3', '8a9c0361-98ff-408e-9edd-79da7adfb62f', '6aa5853d-be02-4b74-86ce-307f89f68fce', '1b0621ad-e84d-4441-b990-a098a75412b0', '853b0604-fd64-4767-9976-ff4223bc3718', 'b62b0fee-12b2-4107-adc5-0317efaa9d50', 'b96f3018-f788-4df8-9ea0-501feab266ca', '75f971ab-6035-4a39-b484-185603bb604b', 'b420f0b3-56d6-45c5-9dc5-2a2dd7caeeb0', 'd22b03a2-cb5d-4673-a064-3e03d8c43472', '4aaab962-542a-4d95-ac39-b74ce6527fef']\n"
     ]
    }
   ],
   "source": [
    "files = []\n",
    "for label in os.listdir(labels_path):\n",
    "    filename = \".\".join(label.split(\".\")[:-1])\n",
    "    files.append(filename)\n",
    "\n",
    "print(files)"
   ]
  },
  {
   "cell_type": "code",
   "execution_count": 7,
   "metadata": {},
   "outputs": [],
   "source": [
    "for image in os.listdir(images_path):\n",
    "    filename = \".\".join(image.split(\".\")[:-1])\n",
    "    if filename not in files:\n",
    "        file_path = os.path.join(images_path, image)\n",
    "        os.remove(file_path)\n",
    "    "
   ]
  },
  {
   "cell_type": "code",
   "execution_count": null,
   "metadata": {},
   "outputs": [],
   "source": []
  },
  {
   "cell_type": "code",
   "execution_count": null,
   "metadata": {},
   "outputs": [],
   "source": []
  }
 ],
 "metadata": {
  "kernelspec": {
   "display_name": "venv",
   "language": "python",
   "name": "python3"
  },
  "language_info": {
   "codemirror_mode": {
    "name": "ipython",
    "version": 3
   },
   "file_extension": ".py",
   "mimetype": "text/x-python",
   "name": "python",
   "nbconvert_exporter": "python",
   "pygments_lexer": "ipython3",
   "version": "3.11.8"
  }
 },
 "nbformat": 4,
 "nbformat_minor": 2
}
