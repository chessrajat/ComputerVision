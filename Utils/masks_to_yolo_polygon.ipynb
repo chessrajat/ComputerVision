{
 "cells": [
  {
   "cell_type": "code",
   "execution_count": 4,
   "metadata": {},
   "outputs": [],
   "source": [
    "import os\n",
    "import cv2"
   ]
  },
  {
   "cell_type": "code",
   "execution_count": 3,
   "metadata": {},
   "outputs": [],
   "source": [
    "input_dir = '/home/chess/Documents/data/temp/segment/masks'\n",
    "output_dir = '/home/chess/Documents/data/temp/segment/labels'"
   ]
  },
  {
   "cell_type": "code",
   "execution_count": 5,
   "metadata": {},
   "outputs": [],
   "source": [
    "for j in os.listdir(input_dir):\n",
    "    image_path = os.path.join(input_dir, j)\n",
    "    # load the binary mask and get its contours\n",
    "    mask = cv2.imread(image_path, cv2.IMREAD_GRAYSCALE)\n",
    "    _, mask = cv2.threshold(mask, 1, 255, cv2.THRESH_BINARY)\n",
    "\n",
    "    H, W = mask.shape\n",
    "    contours, hierarchy = cv2.findContours(mask, cv2.RETR_EXTERNAL, cv2.CHAIN_APPROX_SIMPLE)\n",
    "\n",
    "    # convert the contours to polygons\n",
    "    polygons = []\n",
    "    for cnt in contours:\n",
    "        if cv2.contourArea(cnt) > 200:\n",
    "            polygon = []\n",
    "            for point in cnt:\n",
    "                x, y = point[0]\n",
    "                polygon.append(x / W)\n",
    "                polygon.append(y / H)\n",
    "            polygons.append(polygon)\n",
    "\n",
    "    # print the polygons\n",
    "    with open('{}.txt'.format(os.path.join(output_dir, j)[:-4]), 'w') as f:\n",
    "        for polygon in polygons:\n",
    "            for p_, p in enumerate(polygon):\n",
    "                if p_ == len(polygon) - 1:\n",
    "                    f.write('{}\\n'.format(p))\n",
    "                elif p_ == 0:\n",
    "                    f.write('0 {} '.format(p))\n",
    "                else:\n",
    "                    f.write('{} '.format(p))\n",
    "\n",
    "        f.close()"
   ]
  },
  {
   "cell_type": "markdown",
   "metadata": {},
   "source": [
    "Remove extra images that are not labelled"
   ]
  },
  {
   "cell_type": "code",
   "execution_count": 11,
   "metadata": {},
   "outputs": [],
   "source": [
    "images_path = \"/home/chess/Documents/data/ML_raw_data/numberplate/plate_detection/segment/batch1/images\"\n",
    "image_set_file = \"/home/chess/Documents/data/ML_raw_data/numberplate/plate_detection/segment/batch1/ImageSets/Segmentation/default.txt\""
   ]
  },
  {
   "cell_type": "code",
   "execution_count": 15,
   "metadata": {},
   "outputs": [
    {
     "name": "stdout",
     "output_type": "stream",
     "text": [
      "['0020423c-813f-42fc-8e20-7f6a580f41c7', '00572d66-1ed8-428b-a397-6994601aec5e', '005dfd42-7b73-415e-8b50-db02fd574234', '00b8c26d-05c1-4fad-af59-035b13753530', '018ac09e-bc6c-47b8-b80e-b7b7a648488b', '01a2a2e0-c35d-4146-9f55-0160542a9218', '01f61c80-81a0-49ae-9988-2d1fcc4ee4d7', '0276bd41-780b-47e9-80a6-92b129f5cb29', '02da5af2-09ac-4c10-a30d-37a4fc7d9c08', '030fd249-633d-492a-9ede-2d75ee6729d4', '034c2761-8170-49fb-a4f5-9e4939ec6c17', '034da512-52bb-4aa1-a836-2e278cfb394f', '036337ca-449e-4b4f-a6cc-f7fb4d414986', '03b3a80a-7ed8-41b3-b5c7-b6b19be0a0b8', '03c37fba-1bf0-4890-ad5d-b0ebc88e5d34', '03e0f2e8-fe84-4e2c-adda-cd08bc7c497a', '04975826-a7eb-4474-b319-cb8b12e41227', '05615348-4125-48e8-b946-81baa25354da', '063ce2cd-7ac4-446c-a72a-eec486c48a17', '066f30bf-b3ab-4739-b4ec-0e66590a3595', '06821197-b52a-4b69-8fe4-524f6137f9b3', '06835fb5-e17c-4c9a-b8b2-d791ab0a65c3', '06b79610-6529-4550-9c7b-38037d7b5c8b', '06d7d149-e453-4edf-9b7e-d708a482fdbf', '0909c772-bf26-4e14-9fd6-455cd86df5b3', '0962ac52-eeb8-4628-bfac-5355033cc35a', '0b2df7a6-2e03-4a4d-8a33-5053c568cbde', '0b508c46-8822-4b00-b57d-2410ed49cb47', '0c47b50f-9e43-4bc2-b9c8-6c1976d65e01', '0c65021c-6565-4668-b298-16484c0571e4', '0c896ff9-72c4-40c5-8267-872f77429673', '0cf400af-3a86-46fc-8778-1eabe2615bcc', '0d172244-f656-419d-af4f-54514e6d0558', '0d73205f-b713-42ed-bcf2-18f06023323a', '0da13c7c-b66e-4dac-9f0c-2a7ec33b6a9f', '0dd05c60-9067-4616-bdc6-2a02a902d11b', '0e128347-2b1a-4379-b739-ce0f6c882f60', '0f1f29cb-a46c-45c5-9188-3ca0a9229f00', '0f33ea2e-3f90-4e41-b481-830224dfc4c8', '0fab64d4-0013-41fe-aa9e-87b8650b7015', '1000f424-6a56-4a2c-ba8c-cb79e2755c00', '100520cd-6698-4d41-878b-a43b32a46c3a', '105a964c-b011-44a7-ab03-06aa0fe1d0d3', '105abfa6-ca87-494a-95fc-6c0d3568313f', '10888bc3-c0ef-4b18-942c-cb57f37cf976', '109d9027-e25f-426b-a81d-ac305232e3f3', '112a0a0e-c077-4024-a13f-891039dd671d', '11d68e2f-9f9c-4b1b-8ec1-39f36f35a1f8', '11ee2eb6-168f-4618-9229-3c543ce78721', '1203cf4c-a90f-46b2-bb8b-a9808bd73284', '129c8803-a47f-41c9-9fac-5fdb6525b4ee', '1320f9fb-50f2-46d9-9b5c-ad73f27cbda1', '154cf3f3-e379-4d08-a41a-9272f3e6a34b', '15f68ff2-b1a9-4e72-b43f-bb0e9e126138', '16131f18-00a0-497c-a721-e8e94ded2b0e', '164c59d8-8d55-4b65-aced-9e9ffd3e3606', '1654412c-1388-4da6-a9b0-dd4bab78c7d1', '16c21ca3-b9d4-48a5-ab3e-d6b66ed7b2d6', '17685890-c544-4147-b228-85e395b48701', '176c7a22-3e44-4daf-8f30-6ca77da86fff', '178eaf2c-b463-43dd-8933-09f162eb4164', '17ec6453-9e52-407e-9acb-adbece5bcebd', '17edb312-46a4-4836-aa68-a6fe83254643', '17f7c0ae-63f1-44ce-bcb7-02097a70224b', '181cf2d6-46d7-4006-8b40-7ca4f63559eb', '18e267d8-21d5-41af-9db8-9af9e2492d61', '19273608-1ab1-45c6-ab45-4732ff29e242', '192ba019-a90b-4a17-aa29-0c25f60e9654', '193d7113-07eb-441b-bc3c-707aaeb04816', '1962bae5-70aa-4b45-939f-df0fb018a5d4', '19861f06-5ec0-4b44-a73b-afce6c2b8e90', '19ae15ae-1d1b-42e7-b587-ff47dd16864b', '1a502c5c-bdf2-4f01-bc1a-f8c2e5a8246b', '1a984c0c-de30-4706-9382-0c7d3a356da4', '1adddf24-c116-45a8-81de-cf8810c1e9c8', '1afec4ab-d399-4f3f-a3a1-e6ecc9d35024', '1b17daeb-9de3-49da-bbfc-d0a05f7a9ef6', '1b581f30-801d-4f85-a05c-5a6b5730a277', '1c41b415-fd4c-4f4a-8d9a-58b41d65e595', '1c420c84-9ab8-436f-a350-a16cf937e3a1', '1c62a6b5-3e00-4b65-9ff8-2a2ae473c52b', '1c6bd141-e968-4257-9ff2-5bcb9361e0bb', '1c77d17a-962c-48b8-825e-86ca53857f4e', '1cd4deec-1c46-4957-9fdb-f73e3e98152b', '1d830bb8-4013-4623-9127-71720a1f4647', '1dd9deb1-0b83-4bc5-b710-61328f0168e1', '1e1f2de7-1300-4a1b-aec6-298b95105252', '1e627e37-4469-4df3-8d57-8f3c6437a8ae', '1ef956df-d35e-4691-a37f-9ae6392be97d', '1f75a433-89bb-4c9c-bcfa-b295aac2e57d', '1f95da0e-5797-4ec9-8db4-46391fe79873', '2013e21e-6c07-4541-b88a-a71a6dca798e', '2098b7b4-c3cc-44fa-befe-934f6f8b7822', '21d13ac6-c83f-46ac-af7e-ab8b64bdae48', '21d3bb2e-bf82-4815-a8e3-cd7c322eed3b', '22213103-23ce-4d55-8c65-914580ee5dca', '2248b168-e6f3-44f0-8256-a76d3e4e560f', '23065e92-dc98-4051-91ba-aa5721a63d1c', '23f26797-b1f0-4084-95d2-64cca0a1a467', '23facb80-23d1-4cf9-9adc-a7d16703edc5', '2446b525-503f-4840-a4f8-2c00a44607a3', '24a07164-5bb0-49bd-afb8-ce67c1c5b4b9', '24eca212-fb4d-4295-b12e-3a294de307f8', '256d4e38-628f-4d23-b5b3-43cb9990320b', '259fe3c9-ef33-438a-8502-528bb440ec18', '25bdab42-cbaf-4e66-8883-ad6745d0160f', '27af50fd-974f-4839-9a83-d1478a5b89b5', '286aebe3-3a24-4182-b760-8ca783a3959a', '29c96bfb-7d5d-4e45-bcd6-3e32ea9aa5c4', '29d5b486-c2a2-4cc0-8e0b-de6edabbd42f', '2a19061f-49a5-4d65-9057-675302245c9c', '2aff0a12-3e8d-43c4-9463-97f319529d33', '2b61fcdb-abdf-4c32-aef0-e40dab493e19', '2b7cdd9f-b96f-4251-8491-19592feb0067', '2bfa7753-95d7-4002-b1fc-290af5ec5fa3', '2c3e1bf2-3da0-421c-89db-e47ac091e1bf', '2e41c15b-d1b5-4db9-8b02-bfded11ff361', '2ea66fa6-8aa1-41a7-ab46-88ad70476df1', '2f0d95e1-14c8-4883-ba78-3e33ef6d2a38', '2f81845f-4279-4711-a7bf-cbf4fead1b9f', '2ff65efc-971f-4aa9-ad56-f18f995ecfd3', '30dc6ded-e278-48fc-a312-4bd3e0686cd9', '314033e0-9f53-4ba4-b959-d25e46e85b78', '31687550-6e0d-4a08-bfbc-21850135464b', '32ba4fc3-18d7-45a5-89c3-3f87e8a6a15f', '32d95871-54f0-4b6b-b217-8b3cf503fd9e', '332936bc-956a-4c43-9c7b-44b2aae13d8b', '333d67f3-fbf9-43b4-bddb-684f32fc71a7', '3364f78e-d40d-4467-88fc-4d9b6b9b9eac', '33ebf3b5-4b51-43b3-b904-81af3d62d358', '34d16462-b85c-47db-8f53-283e98b96fe5', '35b643be-7e68-4204-9d45-de3f0ff997a0', '35b7f49e-c318-4501-afb8-408366826137', '35c2516e-6aa1-4450-beef-6387cb1b0215', '365b8191-bf5b-4ca0-b6f6-73f1a4281cd0', '3710b294-bc68-4552-a3b4-7e3a28fed844', '378a7036-49d0-45da-a7ac-9d8318276cfe', '38330af4-d6c1-4c3b-af13-33fba1f29ab1', '39759360-9066-4df8-a552-bc54e57a7422', '39ab981c-46a3-45d8-ada4-7ec98eef8d8b', '39e5e1e7-24e6-4efb-b569-fdd8f93e2f68', '3a5fe3f2-93fc-4502-b0b4-26f939243990', '3a671a77-af71-4f64-bde6-fd96b9c32b0a', '3ba1e157-ade9-4cf1-a6dd-5583d03e02d6', '3c3025a0-d8ff-4918-99bd-9ff4494d921a', '3c5e3f1b-d884-430f-9ff9-a47d3ce72cb2', '3cc3b3e3-d626-4349-8253-8477cecf624d', '3d1f8876-9258-41ff-8b0a-b04498c1891e', '3d22e52c-aac9-4299-9178-33e3e1a2bbe9', '3d244158-8c42-4e40-aa38-7744babf7e4e', '3d3ad751-aab6-4ca6-ba76-345f1cf1e1f4', '3d3fd6d1-7e09-4cba-af58-51f496e5c4d9', '3e16b5e6-fa2f-40c4-be5b-938362c363f3', '3e8ab3cd-b316-4251-a65c-1a47b5f10324', '3e92a0de-04bd-4c34-86be-c957d7218164', '3f89fe30-6c2e-4532-845b-7807c5c6540b', '40628a97-66d8-47e5-a3a1-2dd1279302bc', '406d802a-7fcc-4c4f-b343-693f08e4d04a', '40780399-448f-4163-a8b5-40de661778d5', '40897a1e-76c2-46b1-aac4-bcaa65e52b2c', '41b78a1d-fcd6-48b5-8f1e-2052e60b2be1', '42247b76-a179-40e3-b481-3cbdf205557d', '42449d06-8001-4385-a49d-5df6d6ddeedf', '4288bdaf-206c-4674-b217-ac2f356ef372', '42aacea9-2c6a-4b80-bde2-8525c324b6cd', '42dc94c7-cacf-46a6-8f07-9a85168ab64f', '42e21de2-78e2-4dd8-a846-31e3044bd4f0', '43293ed4-e49a-4479-9566-06ddea694baf', '43448d2c-429d-4c92-8357-76617299a885', '434c522e-8e99-40f4-9934-fbada6077079', '43a4e011-d5bd-4976-8d0e-9067952ada59', '43ade37d-fa55-414e-a221-a33f2580bc69', '43dac32b-8ff8-407a-ba41-f418b8d94e85', '44a1007b-f90b-407f-bc94-a47c200aadbb', '460e8023-1f96-4224-ba71-60367c8472df', '4676c6a3-6cbb-4476-ad50-7e641dcbb4f5', '469d3b33-fbcd-4e7a-b1fa-e7bcd0dbca4b', '46ff9e3f-3d7b-4094-9756-647137860d28', '47fdff7b-5cee-4ed7-af76-1c8aa8e7f17c', '4868bf87-6e36-4018-98d2-9df9bd2acc9b', '48b8ea9b-9602-4096-8f1a-8296e01c38be', '48d98c63-6b90-4ce6-a54d-0a1dc89e977f', '4929bd46-2b45-49a2-8eb4-d599098c344b', '4959881a-a2fe-498d-8014-9b96c561417a', '4adece5b-5cbe-44c4-94ea-0d211ec3c65c', '4afab114-3a3d-428c-806e-3889479b0ffb', '4b381b79-e9e1-4f48-ac6a-038dbc8a2275', '4b96bb71-ff3e-460d-8a50-adeafa413f46', '4bbadd3a-c9d5-4e41-8ad9-cac7c6154e2f', '4c1d9c90-b434-4ea3-83e0-e7c195e9a5c1', '4cc6ecbf-2d45-4f44-9bfb-977871c23f0f', '4db990d1-7574-46c8-9b2c-165cd58d0ed1', '4dc3a239-31f7-40f4-b58a-c261a1bbe602', '4e2e12dd-0352-42de-95c1-11919d514902', '4e3d0837-b176-48b4-ae68-019a689d06c1', '4e9f0fef-c598-47b0-b98a-a37f18c6c0e6', '4eb7901d-d64f-469a-a46c-a3a6d5460ad7', '4ede733d-3d6e-479e-85b2-72d431f5b575', '4ee75484-7be1-4911-a8a7-60e757108119', '50367ea2-d457-4740-a6b8-20233fbfdc49', '50dc37ee-1aa8-48bd-82ac-570bddea158f', '51309fad-0e6f-425f-b03c-36fd8ca31874', '5189c794-95c7-445c-8ca6-5030a43fbd2d', '51e86ac8-6cb0-44a4-a928-221d6455e719', '52057341-5579-4213-afc5-8661dab87c22', '523e7ee9-df12-4df2-a3af-6d4396982def', '526b7e9c-3c78-4227-8c87-e42db181ea6a', '52c3a47c-4245-4104-8bfd-f72d36ee520a', '53b057c1-a9cb-42a6-822c-cb1a4f3faedd', '53d57be8-bae2-4e1c-94bd-5c2ff0febc0d', '544ffa68-27b9-44e0-94bb-c2a4fa9c1b39', '546032be-7e28-466b-9e31-dee053602d2f', '5777419a-8ac7-4112-88f7-91e106c77d0e', '57c949c5-2b11-450c-97bb-62bb1bfe0287', '58ee516f-21c4-441f-8216-42795ea3ac78', '5946dcea-3f9e-496d-82cf-2ea88511b7ca', '59a00fdf-4f0b-4270-951e-3f5710246e6e', '59db4297-1a5f-4c4e-80bf-f546ebdb65b6', '5a98e936-a4ee-45ff-851b-b6e790b3f390', '5b0f6fc3-14d9-431a-b592-9404e8e73ac8', '5b1d326d-9cc9-4df8-a983-fc86a702204e', '5b2220e4-7da2-44d5-9383-861b03ea5b84', '5b6684db-3dca-44bb-8216-e4d27ca62eb2', '5b66dd94-97f2-45a4-a63c-7e70498cb983', '5bd11c00-f8a0-49fe-9c2e-4a3c232ac7ba', '5dfa114f-e846-419a-a9e7-597bbda95d40', '5e0ba51c-6825-440f-aa98-bdb4af502251', '5e542937-dbfe-4680-be59-b34fdc085f1d', '5e8bdfe3-b8d4-47b4-b9df-63883f63f74b', '5eed00f3-344b-40b4-8c9b-fb303e5176e2', '5f1db383-d034-42b2-9316-99da84cc66e9', '5f632826-d3f1-4efc-81e9-2b0652ef5940', '5fe96a06-0b8b-43ba-8b5a-4cc95e977b61', '60230923-6ee4-4f0b-9bbc-baeeac53f760', '6210146f-5710-48b3-91c2-57ad4f3754c5', '62ddd32e-1b9f-43a7-a1ae-82115b31c9fd', '62f49a27-670f-43d3-aff3-41723d2a38e6', '6464d27c-59ef-4455-abc2-49e8e1901f57', '64ec7eae-7bb2-4090-8081-4f89b8ff9b05', '67527b47-1d41-4c15-9d46-f62e37d41766', '676a84a9-dd38-4caf-a963-28ec9a127241', '683335b3-6744-4bcb-9149-b7b67ebe4d65', '689ad9b3-5f7d-4542-be86-d549c2de8d74', '69336f19-af8c-4d77-89b9-2ad0fbf23ccf', '698bc87c-0c62-4a16-9cc9-8f732fc60867', '69e58186-cf52-4475-8854-9f9abb6f00ce', '6c190086-4af9-4520-a332-c4335ac4dc0f', '6c7b4818-b0f0-4192-8b16-7e480c533d08', '6d479c55-ab83-442d-8448-f900a85aaa05', '6d7cb1d7-5b76-4c64-a110-7d131ee74296', '6e664c31-e013-48da-86e2-88769cf7f1da', '6fd9f563-c35b-41f3-b0b3-69329b56efae', '6fed498d-e6e9-41fe-9113-794d76b19a2d', '7152c26b-bfd7-4c3b-bd61-41a79c4cddad', '72771a08-6608-4b98-a1ea-17e8c5e57b2d', '73479b6f-1e44-4ca0-adbd-e56040ef6a15', '736f98b5-289b-4ebf-901f-aaededc9f9be', '73c2cd65-6181-46cc-ab8c-5c011ede998c', '7535d327-8aa0-4fb8-9ca9-d0e7438e0b6d', '7551e2e0-7a29-412a-ad9a-272cbba64ed7', '756747d1-31f0-475e-a06f-960a7dfe43b3', '76254f15-a00c-4065-84da-15400ef9b08a', '7652413d-fe2a-4199-bc93-a66cca127e5e', '76574774-e744-463b-8352-dd0b9a2637d4', '76bdea88-1766-4f3f-8342-5f545a72f5fc', '76c5d6c4-84f1-4d8b-8cda-1e5d4dce688b', '770c21d3-d75b-4380-8645-0558b9e2ba95', '7733878e-ddb7-46b2-8180-bcc85d566386', '77558fd3-39de-4f3e-bf81-a432c6116c16', '77d9cd1c-7137-45ed-99ec-8f60324b91b9', '7858179e-c272-4cf1-a326-f6ea6c683d05', '7886dc1d-0e41-49b9-9fad-78881e463a35', '78eb2890-8b31-4a16-82a7-9654277e0864', '7906a52c-51b6-4b90-a6b7-e7dbde543286', '798146aa-ea39-4d63-90f7-f81ff292bd00', '79bfb04e-7e90-4462-8134-6fd154d8d177', '7a0b8525-82ad-45df-af20-39e4e83fdf1e', '7a3652fe-a625-4d52-bb4b-c0b6fd7166a2', '7a6b6f25-2594-433b-acef-de63f7154408', '7a6e3612-b67e-4dfb-8f61-5745852f49e7', '7a84abef-071f-477a-a1e9-fab8f7028455', '7aeb0d5b-3253-4af6-83a6-58bab9ec1c40', '7af938de-41ef-44d4-9a96-a93271c245ea', '7b202f52-0cd0-4d0a-8dff-e51490fdc94c', '7b266b70-acb4-4134-946e-89c60a27a0a0', '7c510056-54da-469f-907e-97ec08866d71', '7d0e73e1-5bc1-42d7-a5a9-cd2e56ce9221', '7d3b3aa8-3663-41db-a797-cd8a18d4f0cc', '7de13263-80ba-405f-bddf-2ae26ab66fd6', '7de7a5f4-74a8-4388-a132-36816cb03472', '7dfea1ae-716f-4232-80ac-8dfc33c3db82', '7e4bca8c-30e5-4655-a32c-20bee865e456', '7efe6d1b-dd22-457a-9771-2e39b732987a', '7fcc0a15-df43-4b29-b0c8-7e00fd8ce62b', '7fce0e8b-08d7-4766-bd0e-fc045262351f', '8188b24b-c091-42ad-91f5-fe3dc41db149', '81eba4d0-f95e-482e-a0d9-467f2b135b9d', '82165d71-8d4d-419a-9187-ea541a992133', '8218d1df-0996-4483-a834-d06dfdc48f00', '824c56b8-66f4-4c54-a34b-0b6663cc9af8', '82747609-ca1e-4c40-8a35-2615702c4325', '82f7a497-3249-4aa5-81a8-71d292282e7b', '856e2390-0245-4e45-9bd5-dac61ffe913b', '85ee17d3-c203-468d-b6d9-bc8392100265', '86cebb1d-03cc-4e2b-90d4-d88ae9fc9fe2', '86d01f4e-e401-4b29-a67a-e4521c1ff48b', '87db1a37-6a72-4236-b42d-d9588ee9681f', '890056db-01be-4d6d-8c75-95770c13b22d', '89c12c6b-30e5-4fb9-9f9e-cfad9ef28f22', '8a11be7f-ab25-4d37-b15f-99455921a1bd', '8a2d28a6-dc5e-4824-bb51-0ca76d1be2a0', '8ae6ceed-1fb5-4f8f-b135-44fa93af516f', '8ae72b1b-8eab-46b2-86f9-bbfc6d45ee76', '8afcc7bc-0e50-4760-91cd-3bef9e462684', '8b2b49e1-7a4d-4521-ab9d-6f1f81b0d89d', '8b4358d8-7e95-4b69-8756-063c52e474cb', '8bb1b8eb-b47e-4792-8e95-e1595204ef2d', '8bb5459d-698a-4684-bb93-8175babe1b05', '8c8aacab-7c2c-4354-ac0c-417804d02757', '8cb0ed5c-262a-4f26-9b6a-57d3b1fc965f', '8d347ae7-7715-491e-8d12-4750bfcd5f33', '8d789ba8-07d3-4c74-bdb9-77dc683eb7b3', '8da7c6de-122c-40e2-85b4-1ae788a2edb7', '8dda98a4-d306-4947-b304-f0eb6596be26', '8e8c3f45-989f-423d-b8eb-99a33c2dba8a', '8e9382db-1b3c-425d-91c8-bfeb1c6e1ddb', '8ea8309c-87dc-4b69-82b3-ff44712ba655', '8ebb7630-4de0-4e23-8340-fec73bd7afe8', '8f18d0bd-1a2c-4494-9763-b95a79328af9', '8f357dfa-4e1f-4de0-bbe6-03b792656c1b', '90433b23-c072-4444-a8ea-63be405964d9', '905876b3-b65a-4ff6-a214-0b487c133bf3', '9080160d-15a4-434e-82e9-8984c64f33fb', '90840033-f915-48fa-8c44-4b5485d20a1c', '90d146f8-7cf4-4339-b917-9400dbae24c3', '918c711d-52b3-47fc-80b6-b3d78cd7f1cf', '918d042a-1669-435c-b3ff-fcdff9b8e8d4', '91d08fde-1505-4fc8-a1ac-777fc7d1436a', '91f204e3-a8da-4ed4-ae39-92e3bd7868ff', '926b5b87-b808-48e1-8746-dfd895e2c67d', '9295e942-6fd5-40dc-aae1-f0533d91c721', '93504bff-f143-4005-8549-139f286dae82', '9377ef48-eca3-4cb7-90e9-700618d8720f', '93c54d30-5b5a-4535-8516-35207fefe346', '9486a7d2-02ba-4a09-b515-434bd06d32e1', '949b6cc7-d6e9-4250-830a-8e84495f403d', '94b7bd67-18c2-4fee-84b0-544de42cfccd', '94e66d9b-b403-48dd-8824-875ccb4bb53a', '95be6433-b2a4-4f17-b7bf-9c1103b31450', '965ffd10-56ba-4319-a3dc-801a2b0ed9b2', '9679b63b-af08-4fe3-b5b2-bebccd1f0934', '97421370-4f08-4660-b94d-a4e68014b21e', '974835b3-d136-4b22-9a3a-2efafe433ccc', '97b53735-47f3-4291-bdc2-89c8bf781410', '99bd3b89-e887-4315-9fc2-887d7c361d4f', '9abb8faf-5a0d-4cb4-85bf-dae62832dd3e', '9ae8714e-aa1f-4ab1-a6b1-16f3f0b482ae', '9b025e51-0707-4853-8997-473ecc2e335b', '9b59616f-ca4a-4644-ad53-cdf41aae52ad', '9ba844db-73b2-462f-8238-370d26e5156b', '9c30f755-0a28-4f21-bf49-fed0e196a1b7', '9c3d79b7-c82c-4ad7-bd07-a53a10e96d2d', '9c490284-6d7e-44d1-baa2-8a3334cc7075', '9c6d205c-9775-46ea-bb48-2094b9ba58ca', '9ce2ef0a-f518-4aec-8fd8-c0db247bbc2a', '9da79558-606e-4171-a1ed-cb19495aa52b', 'a0322772-2bb7-428b-bbc5-684987e4e405', 'a2a176c5-cd20-4981-b1d0-e2ae4b1a3d32', 'a41d8d13-22ae-4e9e-a9fc-5163aa22941c', 'a4a5613e-0a24-40cc-ba6c-972e1e61d3a4', 'a4f82af2-4736-4542-aa1e-adc3aa9508ef', 'a571795a-4bfc-4345-9ea8-d9c97ed2fd72', 'a5aca249-3c85-4b04-8ad1-97dcef2926ed', 'a60feca4-5435-4e74-a02b-256a192c566f', 'a6e2ca0b-9ffe-40ae-a7df-dc3e4fd1ee48', 'a73705a3-1add-455d-b61b-5fea8168f103', 'a76230b4-d0c8-4014-81a6-486cb20a886b', 'a7d98251-4a2b-4f70-ae5d-5294c05c7984', 'a83e74a2-0e4e-4ad9-9a3c-f63956c2ec50', 'a84e015e-cd7e-4d70-abd2-6c2b34f76056', 'a9279f14-a527-4122-8133-131390480fc7', 'a9af86a1-cb4f-4a17-905a-00703af51cf7', 'aa241b4b-b5df-4ebe-9363-61e4a10b9eac', 'aa70a583-4e25-4556-b6f2-e5d6586b716c', 'aa906d1a-abd8-4fe1-8d95-72a37e3c0474', 'ab47cfce-eec8-4ea9-8c31-97bceca7ac2a', 'ac6fb842-28fd-426e-94a2-96ae34a61fd3', 'ae110287-1f71-422f-8a2b-7e2cfadb4936', 'ae1b0e5f-5dc8-4ede-bdb5-a833b345ec9e', 'ae322ca4-a6c4-4cd4-937d-d4c56cabe3e5', 'af79ba21-d041-4f8c-9dc4-d37248ae11f2', 'b027f54b-2f20-4255-b7f8-5006c5fc5a9c', 'b04aa54b-a675-4b29-a3fa-3aabc869851c', 'b0a7452b-85f1-41eb-95d0-a3362ae44ec9', 'b140ee5a-b4ea-4a12-ae4a-d4b1c1303ac1', 'b224e326-e1e7-4779-be89-f276b73bc948', 'b2324d48-878d-440f-a08a-256ebc241757', 'b26cf0cd-f037-4b93-81de-9b847344da9b', 'b2ac34a7-97fc-4160-8092-553fa19a9551', 'b2de2a64-b9a8-4204-b7b6-d8c0d93b7158', 'b2e58459-5020-4231-a97f-db3c83e0ce5d', 'b3bb4b91-0a4f-4651-a5f4-86c6e6f1e44e', 'b520e5ff-8ea6-4967-b8bb-42f137b21a2b', 'b5359145-9f1b-4443-ae4b-f37c757ad7be', 'b5432f33-df47-437f-a6b0-36af20b7a0ef', 'b5534ca2-9887-4108-9e49-9e7490781506', 'b5931386-fcf7-46ca-b74d-ca9a75ce2d91', 'b653c33f-c053-434d-bb9e-ede0a90e346c', 'b7489f92-0b28-472f-809c-8d80ca4a6351', 'b78d2efe-7193-46be-b0ee-9adb64cc7a44', 'b7f7dadf-1c2c-4110-afd6-fd5a2407edd2', 'b80dd5e9-4cce-40bf-97f1-98af7ee6aff0', 'b87349bf-ef0a-49f4-a7cf-0270634ecb7a', 'b960bc18-da0b-47bf-bb85-95112aa08007', 'ba231010-ca64-4e12-ab45-a985ebeb1bf9', 'bb3b122a-a926-4e75-9ca9-52082a2f7810', 'bb621a33-f52e-4f5d-88ef-5235c1e68cfd', 'bb81d82a-a6cd-4dae-a84d-73f0cbc5917a', 'bc297481-e304-45f1-bcaf-1482af53e3dd', 'bc2c4f62-c662-4d01-94bc-94dea7164215', 'bc99489d-e293-4e89-a096-0277f7fe80c3', 'bcf00f6a-bc1e-4208-8659-28a8d698178f', 'bd346839-7a19-4a56-988d-941e855d8a42', 'bd4c780d-7b88-4fb5-9a57-9820f0b5c169', 'bd549ac9-83ae-4ad4-96db-c2ad1767799f', 'bdcabafa-45a1-4d83-8691-c623a976747c', 'bdcb70e6-ac86-4fb6-b0ff-7ff93a9fd7a4', 'be04c3d0-d149-478a-bcc1-9dbab1754a0e', 'bef73c1c-44e5-4e6d-806d-988c22fbcc73', 'bfd7cd3d-cadd-4b7a-98a2-e57ea8843662', 'c0155c9c-de8c-40b6-b853-6f357e8a8909', 'c0b3dc9d-f18d-4065-85f5-68864ab8ac8f', 'c0e1cf97-29c1-45dd-9277-a623ce21ea56', 'c0f19364-8985-47f8-a28f-e1ec846f406c', 'c11df0dc-6d51-473c-927a-6b9dfe3a9712', 'c181477b-6a5f-478a-877b-1b43adfd4326', 'c18f9384-dfb7-4fbe-91b4-1e06f318c7f2', 'c1c303ae-8d20-42ef-a605-33f91a8ffbcc', 'c1faf1ba-36ac-4104-a225-22b127963432', 'c294b502-4bde-4aae-b9ea-1a57bf6e9774', 'c37571c5-dc8c-4006-8ba9-6610e49a2757', 'c41d4c8e-2bef-4486-a114-a2e85b5bf2a2', 'c474d41a-8b96-4dc0-bed5-ce125b50f768', 'c4775a4c-8fef-412b-b6b4-9d39d4fb3ecf', 'c49f0d78-8065-4606-ae0a-3a398c63ae65', 'c4d24b66-3a27-45fa-aa2f-0a039df58040', 'c599df73-2b47-4f87-b0e0-80aa2bed1423', 'c5b05315-8f2f-4ac3-b217-396a4b8d2f3f', 'c6a4c983-4aa2-4479-a90c-150a4c2ede10', 'c6b61665-7b51-4f95-8a05-d611c9b2eabb', 'c81a32c0-f065-46f5-99e6-718efdd9e98e', 'c87139ee-06be-4a95-8739-230ca6b8a0c3', 'c882b6e5-bc1f-48b3-80de-033ab806c0be', 'c905e5e2-71b6-4303-8e3e-3eabd69acc9f', 'c97fd6d3-7840-4eaa-a9e8-da9962249ab1', 'c9b2306c-bbdc-48c2-8f72-96aaad9ec222', 'ca0b4e8c-1f30-40c9-b224-24573fe83564', 'ca2b48e8-5d14-464a-a4c2-71a9164ebb12', 'ca65cbae-c0e8-43c0-bba2-af5ce91fb046', 'cafedb24-307f-4eca-9c38-5795d80d16a0', 'cb10d118-1feb-4505-bb93-64e6a6406ff2', 'cb398024-b8f6-4a3e-a5ef-c54b16bbf512', 'cbddde25-394b-42de-a7f8-130de3a6ac50', 'cc436500-1e3e-44f1-b74c-ca0729a6f4ad', 'cc758f1a-8dad-4c4a-8cc1-6170f0af61b4', 'cc9a663a-00e4-4580-9386-1cbdd2ed9b7f', 'cd1a24fc-e715-4ee1-acd2-fcdef8b9877e', 'cdb2308f-9f4c-4001-82dd-8fc24877e299', 'cdbdcfb0-092b-4753-b3b8-d9aa7a63bfab', 'ce9a0719-ef6e-4b54-8cd3-4639b3a04d8d', 'cf1f97d0-ebbf-494e-8e2b-bbc9d96ca6af', 'cf4e3323-d505-4527-afa8-cb3dab7b02d9', 'cf96dc40-576f-4e2e-b1b1-43ec6cceff0d', 'cff9f1a6-9767-4667-b6b6-53e26d8cd325', 'd0018992-b185-4daa-9c89-467a161582a3', 'd04f77d6-432b-43f5-998a-0fb165976f99', 'd0746e5f-1c0a-49d5-8085-60e82e0118f9', 'd0c59a2d-b139-454c-916a-c305acd0fe07', 'd0d2a97b-650a-4e09-bb17-9397a47afe5c', 'd0e0a25b-8c1a-4bea-8efe-32768a2a6cde', 'd12c661d-4e6e-4440-bcc7-34ef1c4667f0', 'd2417249-d49f-4147-9847-4d412690a29d', 'd27302eb-e379-4284-8162-cbb87330a825', 'd27fd016-826e-4d6f-af74-ad0e193fd842', 'd29a5543-76fe-4ebd-ab1b-d0232bfc7701', 'd2a46ba8-6ccc-4401-878a-c1ecdb1698ae', 'd2b502a9-e2de-4653-b65e-686966a48078', 'd2ceed26-2898-473a-9fd8-302a9a2ba434', 'd30bed99-a85f-458e-8dde-41e687d95400', 'd39c7023-603c-410e-9c66-224362a7eab3', 'd3f0ad2e-9499-4132-ad77-3432138e00c5', 'd50a468f-8cf4-45d9-8e4a-5dae56369959', 'd52cf44d-1ac8-41e6-abd4-5d6a5f2d8b0f', 'd6b4af0c-4820-48a2-8df4-88d8d97b5dfa', 'd7209979-15f6-48f3-aaf1-580563ee4277', 'd79ae2e4-a202-4e60-8483-1d7764afe965', 'd7ae0f7e-a791-4f17-8441-5515678a1ce5', 'd82c22e1-a91e-498a-8a69-704703240276', 'd9d9da75-1648-4b85-9a06-a32e81b25ecf', 'd9df355a-b6b3-4fb8-9e79-1fb32734bdee', 'da40098c-0d23-42b1-9f5f-3394869862a0', 'da63a35b-9475-4db5-889f-62db097e4f47', 'da9bcc1d-5906-451c-b57b-51773c88683f', 'daa4e265-a167-41d4-b29c-02befd7e6ef2', 'dae166fe-74e8-406c-a40b-5ff08640898b', 'db1a4221-feb9-40f3-a594-d27a93883ae9', 'db5c5f84-62b7-4fed-94a4-67d8301e6fce', 'dc306890-f76c-4f89-a006-46fae4253c67', 'dc46836b-8cda-4df9-a122-e401afa99574', 'dc6442de-c091-41e1-9072-f4bb026798ea', 'dccf2953-f182-4206-aaaf-c8d42411f6ab', 'dd0b74d5-ed00-4f69-8dfb-147a75d30c51', 'dd6ab32f-0c9b-4c4e-8967-dade86f488d7', 'de2efc98-6a52-4027-a3fd-d2b96b3c6e67', 'de4c90ec-1b4e-448b-9801-ec10a8b1ed0f', 'de974fa2-e44d-4850-8086-33dbb820901f', 'df13437c-551a-4f28-8e6e-6e3c30b9698a', 'df7e86f1-b13b-4d1a-bab8-27a0a78e5469', 'df9c0e65-7020-4eed-a17f-5a2f4d40e0ea', 'dfa98566-caa1-4c03-b7ae-f7eca7c00c25', 'e19adeb8-f849-4146-acfb-5733103e56b5', 'e1ffbfea-4aa1-4445-93f2-48ad64858226', 'e201879e-7c39-41f2-a7ab-f3d6d5d2a877', 'e39dd3cd-519b-457d-a6ec-a641e902773f', 'e3b9bd3e-9fe0-45a3-b9f2-f50affdf5a45', 'e3d4e49e-1f7c-4e25-bb0d-44d5eee0d965', 'e49a37e3-1ec7-424c-af56-e32af56c0599', 'e4ce4d3e-dc71-45ed-86b1-836d23f22fc0', 'e563c00a-8c60-4f53-9342-80749ce273e5', 'e5edd722-a014-4e9d-a037-4f19ac9b1af1', 'e621128d-9a20-473b-8302-284b1def1c37', 'e6f238a8-7e65-4a34-8ebf-d8098f788b53', 'e6fbc770-0cf6-42f7-9278-b37df64c044b', 'e7233d0a-3f1b-46c6-bf47-fcb531faefbc', 'e9074ac2-c062-4da7-9436-5ce86675650d', 'e95977ff-85bb-42d6-8f75-d8453c5effc5', 'e97e901e-535b-48ec-8225-a98aae07f8ed', 'e99f0b8d-6e16-41ba-a90b-d7418bfacf6b', 'eb36938c-0ce5-49f9-bc80-df7a31768e02', 'eb5a7941-6255-4c88-aca9-7d22cc998e80', 'eb641d80-c55c-4f96-bd84-f06b3bb2a930', 'eb848c86-5a1d-41b9-a404-745b48d8ef20', 'ebbeede3-7830-4404-bac2-a7565dbe61df', 'ec17e237-9df9-4475-9d37-76e05ad9fe7e', 'ecf91c43-7fe2-4faf-aa4d-7b5ddb31df0b', 'edd0436c-a850-408e-8e53-8c121af4b343', 'ee4cc555-e2bb-4f99-bd58-4c041c58cb09', 'ee84ba05-d1fd-41d8-98ca-8c3163ae9f6b', 'eec17098-cb60-4db2-a1b9-b3188152367f', 'eeced1c3-224d-45d9-9307-0190d7323cc5', 'eed2aab0-67da-430a-a65e-ccbdfcb0f293', 'ef1e2fef-19b6-4cd6-8956-d71143634882', 'ef4ee06a-1d51-4392-a1f3-6ee2380eb36b', 'efc6b749-228f-4d57-bb23-8b5f4b1b826b', 'f0c6719f-27d2-49fc-9e57-eb47ad076622', 'f1d0802f-4a2c-411c-b908-aee9b04fad08', 'f1e6f23a-2eb0-4d9a-a14b-087f579d3291', 'f2187f11-c600-4b48-8d14-dbc04df0bafb', 'f243d461-9e55-4284-9961-536607228255', 'f31a4993-8329-409f-8268-c7494e6e31a0', 'f3b08237-f3eb-4245-ac8b-f278bfafa9d0', 'f47b8ef4-99ba-4a63-80bb-6b3a19b8618c', 'f55a7412-3e8b-4cce-8918-3b6715d0a6e3', 'f6da4610-df49-40ca-8eff-9aaeda2b9b44', 'f70e3abc-74c9-4862-aa56-a526d77e430d', 'f7e73f91-24e3-45d1-9494-e9fa01c6e6c6', 'f8178eb7-c392-49a2-8bc0-acbf5fa38b32', 'f86d67b6-1344-4392-8fe9-62a3110e5c29', 'f899be60-fb3b-4a15-8651-176da0a44bb5', 'f8c4d558-29f1-42f8-8e35-c2f6d927421f', 'f8f93482-e35d-4ffe-a042-3b91712a3bb6', 'f9a674bf-64b8-41c4-99da-cfc12ee87f7d', 'faf0e09a-574e-4bd3-b33a-e7bc5fe08868', 'fb6cec50-7ea3-4c1f-b0f0-6bc228e64b86', 'fb74f0c1-9b92-45a1-b075-66d39a009c15', 'fb78ba38-8738-48a7-a146-99f10fc0de7b', 'fbabc5d5-dfbc-4ca4-ac6d-596edbd7dc6e', 'fbc30590-1c1d-48e9-99e4-f1f3c351f575', 'fbc46bfc-acd1-4701-b876-12353b4d03ff', 'fc0ad159-72ed-46f8-a046-6b9dcef00cf2', 'fc689d54-7d49-4bc1-8a5a-e94c7da62979', 'fd80602d-7840-4e2a-a612-843b74a90338', 'fdf65a20-a515-4568-a403-6d1ac790950b', 'fe62f60f-5780-49e8-a300-f76e830ec1d0', 'fe706796-7e8e-4a7e-b281-fe1056c194a3', 'ff27e347-5740-41f7-ab25-c8e79d80071b', 'ff48909c-f553-45ba-b148-f3c96983ae27', 'ffe27466-e474-4282-8cce-3408bb7f46fd']\n"
     ]
    }
   ],
   "source": [
    "with open(image_set_file, \"r\") as f:\n",
    "    files = f.read().splitlines()\n",
    "\n",
    "print(files)"
   ]
  },
  {
   "cell_type": "code",
   "execution_count": 17,
   "metadata": {},
   "outputs": [],
   "source": [
    "for image in os.listdir(images_path):\n",
    "    filename = \".\".join(image.split(\".\")[:-1])\n",
    "    if filename not in files:\n",
    "        file_path = os.path.join(images_path, image)\n",
    "        os.remove(file_path)\n",
    "    "
   ]
  },
  {
   "cell_type": "code",
   "execution_count": null,
   "metadata": {},
   "outputs": [],
   "source": []
  },
  {
   "cell_type": "code",
   "execution_count": null,
   "metadata": {},
   "outputs": [],
   "source": []
  }
 ],
 "metadata": {
  "kernelspec": {
   "display_name": "venv",
   "language": "python",
   "name": "python3"
  },
  "language_info": {
   "codemirror_mode": {
    "name": "ipython",
    "version": 3
   },
   "file_extension": ".py",
   "mimetype": "text/x-python",
   "name": "python",
   "nbconvert_exporter": "python",
   "pygments_lexer": "ipython3",
   "version": "3.11.7"
  }
 },
 "nbformat": 4,
 "nbformat_minor": 2
}
