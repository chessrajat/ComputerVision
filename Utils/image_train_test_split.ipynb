{
 "cells": [
  {
   "cell_type": "code",
   "execution_count": 1,
   "metadata": {},
   "outputs": [],
   "source": [
    "import os\n",
    "import shutil\n",
    "import random"
   ]
  },
  {
   "cell_type": "code",
   "execution_count": 2,
   "metadata": {},
   "outputs": [],
   "source": [
    "base_path = \"/home/chess/Documents/data/ML_raw_data/numberplate/classified_plates/WHITE_PLATE/office/\"\n",
    "train_path = \"/home/chess/Documents/Code/Projects/ANPR/LPR/PlateRecognition/data/train\"\n",
    "test_path = \"/home/chess/Documents/Code/Projects/ANPR/LPR/PlateRecognition/data/test\"\n",
    "test_ratio = 0.10"
   ]
  },
  {
   "cell_type": "code",
   "execution_count": 3,
   "metadata": {},
   "outputs": [],
   "source": [
    "if not os.path.exists(train_path):\n",
    "    os.mkdir(train_path)\n",
    "if not os.path.exists(test_path):\n",
    "    os.mkdir(test_path)"
   ]
  },
  {
   "cell_type": "code",
   "execution_count": 4,
   "metadata": {},
   "outputs": [],
   "source": [
    "all_files = []\n",
    "for file in os.listdir(base_path):\n",
    "    if os.path.isfile(os.path.join(base_path, file)):\n",
    "        all_files.append(os.path.join(base_path, file))\n",
    "\n",
    "total_files = len(all_files)\n",
    "num_test_files = int(total_files * test_ratio)\n",
    "\n",
    "random.shuffle(all_files)\n",
    "test_files = all_files[:num_test_files]\n",
    "train_files = all_files[num_test_files :]\n",
    "\n",
    "for file in test_files:\n",
    "    shutil.copy2(file, test_path)\n",
    "\n",
    "for file in train_files:\n",
    "    shutil.copy2(file, train_path)\n"
   ]
  },
  {
   "cell_type": "markdown",
   "metadata": {},
   "source": [
    "### YOLO Image text split"
   ]
  },
  {
   "cell_type": "code",
   "execution_count": 2,
   "metadata": {},
   "outputs": [],
   "source": [
    "import os\n",
    "import shutil"
   ]
  },
  {
   "cell_type": "code",
   "execution_count": 3,
   "metadata": {},
   "outputs": [],
   "source": [
    "base_path = \"/home/chess/Documents/data/ML_raw_data/numberplate/segments\"\n",
    "source_path = os.path.join(base_path, \"data\")\n",
    "images_path = os.path.join(base_path, \"images\")\n",
    "labels_path = os.path.join(base_path, \"labels\")"
   ]
  },
  {
   "cell_type": "code",
   "execution_count": 4,
   "metadata": {},
   "outputs": [],
   "source": [
    "if not os.path.exists(images_path):\n",
    "    os.mkdir(images_path)\n",
    "if not os.path.exists(labels_path):\n",
    "    os.mkdir(labels_path)"
   ]
  },
  {
   "cell_type": "code",
   "execution_count": 9,
   "metadata": {},
   "outputs": [],
   "source": [
    "for file in os.listdir(source_path):\n",
    "    file_path = os.path.join(source_path, file)\n",
    "    extension = file.split(\".\")[-1]\n",
    "    if extension == \"txt\":\n",
    "        shutil.move(file_path, labels_path)\n",
    "    else:\n",
    "        shutil.move(file_path, images_path)"
   ]
  },
  {
   "cell_type": "markdown",
   "metadata": {},
   "source": [
    "## YOLO detect data split"
   ]
  },
  {
   "cell_type": "code",
   "execution_count": 10,
   "metadata": {},
   "outputs": [],
   "source": [
    "import os\n",
    "import shutil\n",
    "import random"
   ]
  },
  {
   "cell_type": "code",
   "execution_count": 11,
   "metadata": {},
   "outputs": [],
   "source": [
    "images_source_path = \"/home/chess/Documents/data/ML_raw_data/numberplate/plate_detection/segment/batch1/images\"\n",
    "labels_source_path = \"/home/chess/Documents/data/ML_raw_data/numberplate/plate_detection/segment/batch1/labels\"\n",
    "\n",
    "base_path = \"/home/chess/Documents/Code/Projects/ANPR/ANPR/segment\"\n",
    "\n",
    "images_path = os.path.join(base_path, \"images\")\n",
    "labels_path = os.path.join(base_path, \"labels\")\n",
    "\n",
    "images_train_path = os.path.join(base_path, \"images\", \"train\")\n",
    "images_val_path = os.path.join(base_path, \"images\", \"val\")\n",
    "\n",
    "labels_train_path = os.path.join(base_path, \"labels\", \"train\")\n",
    "labels_val_path = os.path.join(base_path, \"labels\", \"val\")\n",
    "test_ratio = 0.10\n"
   ]
  },
  {
   "cell_type": "code",
   "execution_count": 12,
   "metadata": {},
   "outputs": [],
   "source": [
    "if not os.path.exists(images_path):\n",
    "    os.mkdir(images_path)\n",
    "if not os.path.exists(labels_path):\n",
    "    os.mkdir(labels_path)\n",
    "if not os.path.exists(images_train_path):\n",
    "    os.mkdir(images_train_path)\n",
    "if not os.path.exists(images_val_path):\n",
    "    os.mkdir(images_val_path)\n",
    "if not os.path.exists(labels_train_path):\n",
    "    os.mkdir(labels_train_path)\n",
    "if not os.path.exists(labels_val_path):\n",
    "    os.mkdir(labels_val_path)"
   ]
  },
  {
   "cell_type": "code",
   "execution_count": 18,
   "metadata": {},
   "outputs": [],
   "source": [
    "all_images = []\n",
    "for image in os.listdir(images_source_path):\n",
    "    image_file = os.path.join(images_source_path, image)\n",
    "    if not os.path.isfile(image_file):\n",
    "        continue\n",
    "    all_images.append(image_file)\n",
    "\n",
    "total_images = len(all_images)\n",
    "num_test_files = int(total_images * test_ratio)\n",
    "\n",
    "random.shuffle(all_images)\n",
    "test_images = all_images[:num_test_files]\n",
    "train_images = all_images[num_test_files :]\n",
    "\n",
    "for file in test_images:\n",
    "    file_name = os.path.basename(file)\n",
    "    file_name = \".\".join(file_name.split(\".\")[:-1]) + \".txt\"\n",
    "    label_file = os.path.join(labels_source_path, file_name)\n",
    "    shutil.copy2(label_file, labels_val_path)\n",
    "    shutil.copy2(file, images_val_path)\n",
    "\n",
    "for file in train_images:\n",
    "    file_name = os.path.basename(file)\n",
    "    file_name = \".\".join(file_name.split(\".\")[:-1]) + \".txt\"\n",
    "    label_file = os.path.join(labels_source_path, file_name)\n",
    "    shutil.copy2(label_file, labels_train_path)\n",
    "    shutil.copy2(file, images_train_path)\n",
    "    "
   ]
  },
  {
   "cell_type": "code",
   "execution_count": null,
   "metadata": {},
   "outputs": [],
   "source": []
  },
  {
   "cell_type": "code",
   "execution_count": null,
   "metadata": {},
   "outputs": [],
   "source": []
  }
 ],
 "metadata": {
  "kernelspec": {
   "display_name": "venv",
   "language": "python",
   "name": "python3"
  },
  "language_info": {
   "codemirror_mode": {
    "name": "ipython",
    "version": 3
   },
   "file_extension": ".py",
   "mimetype": "text/x-python",
   "name": "python",
   "nbconvert_exporter": "python",
   "pygments_lexer": "ipython3",
   "version": "3.11.7"
  }
 },
 "nbformat": 4,
 "nbformat_minor": 2
}
