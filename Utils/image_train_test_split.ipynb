{
 "cells": [
  {
   "cell_type": "code",
   "execution_count": 14,
   "metadata": {},
   "outputs": [],
   "source": [
    "import os\n",
    "import shutil\n",
    "import random"
   ]
  },
  {
   "cell_type": "code",
   "execution_count": 17,
   "metadata": {},
   "outputs": [],
   "source": [
    "base_path = \"/home/chess/Documents/data/ML_raw_data/numberplate/plate_with_number\"\n",
    "train_path = \"/home/chess/Documents/Code/Projects/ANPR/LPR/PlateRecognition/data/train\"\n",
    "test_path = \"/home/chess/Documents/Code/Projects/ANPR/LPR/PlateRecognition/data/test\"\n",
    "test_ratio = 0.15"
   ]
  },
  {
   "cell_type": "code",
   "execution_count": 19,
   "metadata": {},
   "outputs": [],
   "source": [
    "if not os.path.exists(train_path):\n",
    "    os.mkdir(train_path)\n",
    "if not os.path.exists(test_path):\n",
    "    os.mkdir(test_path)"
   ]
  },
  {
   "cell_type": "code",
   "execution_count": 18,
   "metadata": {},
   "outputs": [],
   "source": [
    "all_files = []\n",
    "for file in os.listdir(base_path):\n",
    "    if os.path.isfile(os.path.join(base_path, file)):\n",
    "        all_files.append(os.path.join(base_path, file))\n",
    "\n",
    "total_files = len(all_files)\n",
    "num_test_files = int(total_files * test_ratio)\n",
    "\n",
    "random.shuffle(all_files)\n",
    "test_files = all_files[:num_test_files]\n",
    "train_files = all_files[num_test_files :]\n",
    "\n",
    "for file in test_files:\n",
    "    shutil.copy2(file, test_path)\n",
    "\n",
    "for file in train_files:\n",
    "    shutil.copy2(file, train_path)\n"
   ]
  },
  {
   "cell_type": "code",
   "execution_count": null,
   "metadata": {},
   "outputs": [],
   "source": []
  }
 ],
 "metadata": {
  "kernelspec": {
   "display_name": "venv",
   "language": "python",
   "name": "python3"
  },
  "language_info": {
   "codemirror_mode": {
    "name": "ipython",
    "version": 3
   },
   "file_extension": ".py",
   "mimetype": "text/x-python",
   "name": "python",
   "nbconvert_exporter": "python",
   "pygments_lexer": "ipython3",
   "version": "3.11.6"
  }
 },
 "nbformat": 4,
 "nbformat_minor": 2
}
