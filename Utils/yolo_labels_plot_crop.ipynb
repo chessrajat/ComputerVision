{
 "cells": [
  {
   "cell_type": "code",
   "execution_count": 6,
   "metadata": {},
   "outputs": [],
   "source": [
    "import os\n",
    "import cv2\n",
    "import uuid"
   ]
  },
  {
   "cell_type": "code",
   "execution_count": 3,
   "metadata": {},
   "outputs": [],
   "source": [
    "base_path = \"/home/chess/Documents/data/ML_raw_data/numberplate/plate_detection/data\"\n",
    "images_path = os.path.join(base_path, \"images\")\n",
    "labels_path = os.path.join(base_path, \"labels\")\n",
    "cropped_output_path = os.path.join(base_path, \"cropped\")"
   ]
  },
  {
   "cell_type": "code",
   "execution_count": 4,
   "metadata": {},
   "outputs": [],
   "source": [
    "if not os.path.exists(cropped_output_path):\n",
    "    os.mkdir(cropped_output_path)"
   ]
  },
  {
   "cell_type": "markdown",
   "metadata": {},
   "source": [
    "## Show Image and Plot labels "
   ]
  },
  {
   "cell_type": "code",
   "execution_count": 5,
   "metadata": {},
   "outputs": [],
   "source": [
    "for image in os.listdir(images_path):\n",
    "    image_name = \".\".join(image.split(\".\")[:-1])\n",
    "    image_path = os.path.join(images_path, image)\n",
    "    label_path = os.path.join(labels_path, f\"{image_name}.txt\")\n",
    "    \n",
    "    if not os.path.exists(label_path):\n",
    "        print(f\"Image {image} label does not exist\")\n",
    "    \n",
    "    # Read image and plot\n",
    "    img = cv2.imread(image_path)\n",
    "    dh, dw, _ = img.shape\n",
    "\n",
    "    fl = open(label_path, 'r')\n",
    "    data = fl.readlines()\n",
    "    fl.close()\n",
    "\n",
    "    for dt in data:\n",
    "        _, x, y, w, h = map(float, dt.split(' '))\n",
    "\n",
    "        l = int((x - w / 2) * dw)\n",
    "        r = int((x + w / 2) * dw)\n",
    "        t = int((y - h / 2) * dh)\n",
    "        b = int((y + h / 2) * dh)\n",
    "        \n",
    "        if l < 0:\n",
    "            l = 0\n",
    "        if r > dw - 1:\n",
    "            r = dw - 1\n",
    "        if t < 0:\n",
    "            t = 0\n",
    "        if b > dh - 1:\n",
    "            b = dh - 1\n",
    "\n",
    "        cv2.rectangle(img, (l, t), (r, b), (0, 0, 255), 1)\n",
    "\n",
    "    cv2.imshow(\"plotted image\", img)\n",
    "    key = cv2.waitKey(0)\n",
    "    if key == ord(\"q\"):\n",
    "        break\n",
    "\n",
    "cv2.destroyAllWindows()"
   ]
  },
  {
   "cell_type": "markdown",
   "metadata": {},
   "source": [
    "### Crop images based on labels"
   ]
  },
  {
   "cell_type": "code",
   "execution_count": 7,
   "metadata": {},
   "outputs": [],
   "source": [
    "for image in os.listdir(images_path):\n",
    "    image_name = \".\".join(image.split(\".\")[:-1])\n",
    "    image_path = os.path.join(images_path, image)\n",
    "    label_path = os.path.join(labels_path, f\"{image_name}.txt\")\n",
    "    \n",
    "    if not os.path.exists(label_path):\n",
    "        print(f\"Image {image} label does not exist\")\n",
    "    \n",
    "    # Read image and plot\n",
    "    img = cv2.imread(image_path)\n",
    "    dh, dw, _ = img.shape\n",
    "\n",
    "    fl = open(label_path, 'r')\n",
    "    data = fl.readlines()\n",
    "    fl.close()\n",
    "\n",
    "    for dt in data:\n",
    "        _, x, y, w, h = map(float, dt.split(' '))\n",
    "\n",
    "        l = int((x - w / 2) * dw)\n",
    "        r = int((x + w / 2) * dw)\n",
    "        t = int((y - h / 2) * dh)\n",
    "        b = int((y + h / 2) * dh)\n",
    "        \n",
    "        if l < 0:\n",
    "            l = 0\n",
    "        if r > dw - 1:\n",
    "            r = dw - 1\n",
    "        if t < 0:\n",
    "            t = 0\n",
    "        if b > dh - 1:\n",
    "            b = dh - 1\n",
    "\n",
    "        cropped_image = img[t + 5 : b + 5, l + 5 : r + 5]\n",
    "        idx = uuid.uuid4()\n",
    "        cropped_image_path = os.path.join(cropped_output_path, f\"{idx}.jpg\")\n",
    "        cv2.imwrite(cropped_image_path, cropped_image)\n",
    "    "
   ]
  },
  {
   "cell_type": "code",
   "execution_count": null,
   "metadata": {},
   "outputs": [],
   "source": []
  }
 ],
 "metadata": {
  "kernelspec": {
   "display_name": "venv",
   "language": "python",
   "name": "python3"
  },
  "language_info": {
   "codemirror_mode": {
    "name": "ipython",
    "version": 3
   },
   "file_extension": ".py",
   "mimetype": "text/x-python",
   "name": "python",
   "nbconvert_exporter": "python",
   "pygments_lexer": "ipython3",
   "version": "3.11.6"
  }
 },
 "nbformat": 4,
 "nbformat_minor": 2
}
