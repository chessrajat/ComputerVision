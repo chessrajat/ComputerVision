{
 "cells": [
  {
   "cell_type": "code",
   "execution_count": 6,
   "metadata": {},
   "outputs": [],
   "source": [
    "import os\n",
    "import cv2\n",
    "import uuid"
   ]
  },
  {
   "cell_type": "code",
   "execution_count": 3,
   "metadata": {},
   "outputs": [],
   "source": [
    "base_path = \"/home/chess/Documents/data/ML_raw_data/numberplate/plate_detection/data\"\n",
    "images_path = os.path.join(base_path, \"images\")\n",
    "labels_path = os.path.join(base_path, \"labels\")\n",
    "cropped_output_path = os.path.join(base_path, \"cropped\")"
   ]
  },
  {
   "cell_type": "code",
   "execution_count": 4,
   "metadata": {},
   "outputs": [],
   "source": [
    "if not os.path.exists(cropped_output_path):\n",
    "    os.mkdir(cropped_output_path)"
   ]
  },
  {
   "cell_type": "markdown",
   "metadata": {},
   "source": [
    "## Show Image and Plot labels "
   ]
  },
  {
   "cell_type": "code",
   "execution_count": 5,
   "metadata": {},
   "outputs": [],
   "source": [
    "for image in os.listdir(images_path):\n",
    "    image_name = \".\".join(image.split(\".\")[:-1])\n",
    "    image_path = os.path.join(images_path, image)\n",
    "    label_path = os.path.join(labels_path, f\"{image_name}.txt\")\n",
    "    \n",
    "    if not os.path.exists(label_path):\n",
    "        print(f\"Image {image} label does not exist\")\n",
    "    \n",
    "    # Read image and plot\n",
    "    img = cv2.imread(image_path)\n",
    "    dh, dw, _ = img.shape\n",
    "\n",
    "    fl = open(label_path, 'r')\n",
    "    data = fl.readlines()\n",
    "    fl.close()\n",
    "\n",
    "    for dt in data:\n",
    "        _, x, y, w, h = map(float, dt.split(' '))\n",
    "\n",
    "        l = int((x - w / 2) * dw)\n",
    "        r = int((x + w / 2) * dw)\n",
    "        t = int((y - h / 2) * dh)\n",
    "        b = int((y + h / 2) * dh)\n",
    "        \n",
    "        if l < 0:\n",
    "            l = 0\n",
    "        if r > dw - 1:\n",
    "            r = dw - 1\n",
    "        if t < 0:\n",
    "            t = 0\n",
    "        if b > dh - 1:\n",
    "            b = dh - 1\n",
    "\n",
    "        cv2.rectangle(img, (l, t), (r, b), (0, 0, 255), 1)\n",
    "\n",
    "    cv2.imshow(\"plotted image\", img)\n",
    "    key = cv2.waitKey(0)\n",
    "    if key == ord(\"q\"):\n",
    "        break\n",
    "\n",
    "cv2.destroyAllWindows()"
   ]
  },
  {
   "cell_type": "markdown",
   "metadata": {},
   "source": [
    "### Crop images based on labels"
   ]
  },
  {
   "cell_type": "code",
   "execution_count": 7,
   "metadata": {},
   "outputs": [],
   "source": [
    "for image in os.listdir(images_path):\n",
    "    image_name = \".\".join(image.split(\".\")[:-1])\n",
    "    image_path = os.path.join(images_path, image)\n",
    "    label_path = os.path.join(labels_path, f\"{image_name}.txt\")\n",
    "    \n",
    "    if not os.path.exists(label_path):\n",
    "        print(f\"Image {image} label does not exist\")\n",
    "    \n",
    "    # Read image and plot\n",
    "    img = cv2.imread(image_path)\n",
    "    dh, dw, _ = img.shape\n",
    "\n",
    "    fl = open(label_path, 'r')\n",
    "    data = fl.readlines()\n",
    "    fl.close()\n",
    "\n",
    "    for dt in data:\n",
    "        _, x, y, w, h = map(float, dt.split(' '))\n",
    "\n",
    "        l = int((x - w / 2) * dw)\n",
    "        r = int((x + w / 2) * dw)\n",
    "        t = int((y - h / 2) * dh)\n",
    "        b = int((y + h / 2) * dh)\n",
    "        \n",
    "        if l < 0:\n",
    "            l = 0\n",
    "        if r > dw - 1:\n",
    "            r = dw - 1\n",
    "        if t < 0:\n",
    "            t = 0\n",
    "        if b > dh - 1:\n",
    "            b = dh - 1\n",
    "\n",
    "        cropped_image = img[t + 5 : b + 5, l + 5 : r + 5]\n",
    "        idx = uuid.uuid4()\n",
    "        cropped_image_path = os.path.join(cropped_output_path, f\"{idx}.jpg\")\n",
    "        cv2.imwrite(cropped_image_path, cropped_image)\n",
    "    "
   ]
  },
  {
   "cell_type": "markdown",
   "metadata": {},
   "source": [
    "## convert yolo bounding box into label files"
   ]
  },
  {
   "cell_type": "code",
   "execution_count": null,
   "metadata": {},
   "outputs": [],
   "source": [
    "from ultralytics import YOLO\n",
    "import cv2\n",
    "import numpy as np\n",
    "import imutils\n",
    "import os\n",
    "import shutil"
   ]
  },
  {
   "cell_type": "code",
   "execution_count": null,
   "metadata": {},
   "outputs": [],
   "source": [
    "model = YOLO(\"./models/plate_segment.pt\")"
   ]
  },
  {
   "cell_type": "code",
   "execution_count": null,
   "metadata": {},
   "outputs": [],
   "source": [
    "num_plates_path = \"./data/images/\"\n",
    "output_path = \"/home/chess/Documents/data/temp/detect\"\n",
    "for image in os.listdir(num_plates_path):\n",
    "    image_path = os.path.join(num_plates_path, image)\n",
    "    frame = cv2.imread(image_path)\n",
    "    if frame is None:\n",
    "        continue\n",
    "    frame = imutils.resize(frame, width=1200)\n",
    "    dh, dw, _ = frame.shape\n",
    "    results = model.predict(frame, verbose=False)\n",
    "\n",
    "    result = results[0]\n",
    "    lines = []\n",
    "    for box in result.boxes:\n",
    "        cords = box.xyxy[0].tolist()\n",
    "        # cords = [round(x) for x in cords]\n",
    "        x_min, y_min, x_max, y_max = cords\n",
    "        x_min, y_min, x_max, y_max = int(x_min) - 1, int(y_min) -1, int(x_max) +1, int(y_max) + 1\n",
    "\n",
    "        cv2.rectangle(frame, (x_min, y_min), (x_max, y_max), (0, 0, 255), 2)\n",
    "        \n",
    "        # converts the bbox into the labels\n",
    "        x = (x_min / dw) + ((x_max - x_min) / (2 * dw))\n",
    "        y = (y_min / dh) + ((y_max - y_min) / (2 * dh))\n",
    "        w = (x_max - x_min) / dw\n",
    "        h = (y_max - y_min) / dh\n",
    "\n",
    "        line = f\"0 {x} {y} {w} {h}\"\n",
    "        lines.append(line)\n",
    "    \n",
    "    # print(\"---------------------------------\")\n",
    "    cv2.imshow(\"frame\", frame)\n",
    "    \n",
    "    curr_id = image.split(\".\")[0]\n",
    "    \n",
    "    output_image_path = os.path.join(output_path, \"images\", image)\n",
    "    label_path = os.path.join(output_path, \"labels\", f\"{curr_id}.txt\")\n",
    "\n",
    "    shutil.copy2(image_path, output_image_path)\n",
    "    with open(label_path, \"w\") as f:\n",
    "        f.writelines(lines)\n",
    "\n",
    "    key = cv2.waitKey(1)\n",
    "    if key == ord(\"q\"):\n",
    "        break\n",
    "\n",
    "\n",
    "cv2.destroyAllWindows()"
   ]
  },
  {
   "cell_type": "code",
   "execution_count": null,
   "metadata": {},
   "outputs": [],
   "source": []
  },
  {
   "cell_type": "code",
   "execution_count": null,
   "metadata": {},
   "outputs": [],
   "source": []
  },
  {
   "cell_type": "code",
   "execution_count": null,
   "metadata": {},
   "outputs": [],
   "source": []
  },
  {
   "cell_type": "code",
   "execution_count": null,
   "metadata": {},
   "outputs": [],
   "source": []
  },
  {
   "cell_type": "code",
   "execution_count": null,
   "metadata": {},
   "outputs": [],
   "source": []
  },
  {
   "cell_type": "code",
   "execution_count": null,
   "metadata": {},
   "outputs": [],
   "source": []
  }
 ],
 "metadata": {
  "kernelspec": {
   "display_name": "venv",
   "language": "python",
   "name": "python3"
  },
  "language_info": {
   "codemirror_mode": {
    "name": "ipython",
    "version": 3
   },
   "file_extension": ".py",
   "mimetype": "text/x-python",
   "name": "python",
   "nbconvert_exporter": "python",
   "pygments_lexer": "ipython3",
   "version": "3.11.8"
  }
 },
 "nbformat": 4,
 "nbformat_minor": 2
}
