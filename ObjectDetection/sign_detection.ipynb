{
 "cells": [
  {
   "cell_type": "code",
   "execution_count": 2,
   "metadata": {},
   "outputs": [],
   "source": [
    "import os"
   ]
  },
  {
   "cell_type": "code",
   "execution_count": 4,
   "metadata": {},
   "outputs": [],
   "source": [
    "CUSTOM_MODEL_NAME = \"my_ssd_model\"\n",
    "PRETRAINED_MODEL_NAME = \"ssd_mobilenet_v2_fpnlite_320x320_coco17_tpu-8\"\n",
    "PRETRAINED_MODEL_URL = \"http://download.tensorflow.org/models/object_detection/tf2/20200711/ssd_mobilenet_v2_fpnlite_320x320_coco17_tpu-8.tar.gz\"\n",
    "TF_RECORD_SCRIPT_NAME = \"generate_tfrecord.py\"\n",
    "LABEL_MAP_NAME = \"label_map.pbtxt\"\n"
   ]
  },
  {
   "cell_type": "code",
   "execution_count": 5,
   "metadata": {},
   "outputs": [],
   "source": [
    "base_path = \"../data/object_detection/signs/\"\n",
    "paths = {\n",
    "    \"WORDSPACE_PATH\": os.path.join(base_path, \"workspace\"),\n",
    "    \"SCRIPT_PATH\": os.path.join(base_path, \"scripts\"),\n",
    "    \"APIMODEL_PATH\": os.path.join(base_path, \"models\"),\n",
    "    \"ANNOTATION_PATH\":os.path.join(base_path, \"workspace\", \"annotations\"),\n",
    "    \"IMAGE_PATH\": os.path.join(base_path, \"workspace\", \"images\"),\n",
    "    \"MODEL_PATH\": os.path.join(base_path, \"workspace\", \"models\"),\n",
    "    \"PRETRAINED_MODEL_PATH\": os.path.join(base_path, \"workspace\", \"pre-trained-models\"),\n",
    "    \"CHECKPOINT_PATH\": os.path.join(base_path, \"workspace\", \"models\", CUSTOM_MODEL_NAME),\n",
    "    \"OUTPUT_PATH\": os.path.join(base_path, \"workspace\", \"models\", CUSTOM_MODEL_NAME, \"export\"),\n",
    "    \"TFJS_PATH\": os.path.join(base_path, \"workspace\", \"models\", CUSTOM_MODEL_NAME, \"tfjsexport\"),\n",
    "    \"TFLITE_PATH\": os.path.join(base_path, \"workspace\", \"models\", CUSTOM_MODEL_NAME, \"tfliteexport\"),\n",
    "    \"PROTOC_PATH\": os.path.join(base_path, \"protoc\")\n",
    "}"
   ]
  },
  {
   "cell_type": "code",
   "execution_count": 6,
   "metadata": {},
   "outputs": [],
   "source": [
    "files = {\n",
    "    \"PIPELINE_CONFIG\": os.path.join(base_path, \"workspace\", \"models\", CUSTOM_MODEL_NAME, \"pipline.config\"),\n",
    "    \"TF_RECORD_SCRIPT\": os.path.join(paths[\"SCRIPT_PATH\"], TF_RECORD_SCRIPT_NAME),\n",
    "    \"LABELMAP\": os.path.join(paths[\"ANNOTATION_PATH\"], LABEL_MAP_NAME)\n",
    "}"
   ]
  },
  {
   "cell_type": "code",
   "execution_count": 9,
   "metadata": {},
   "outputs": [],
   "source": [
    "for path in paths.values():\n",
    "    if not os.path.exists(path):\n",
    "        os.makedirs(path)"
   ]
  },
  {
   "cell_type": "code",
   "execution_count": null,
   "metadata": {},
   "outputs": [],
   "source": []
  }
 ],
 "metadata": {
  "kernelspec": {
   "display_name": "venv",
   "language": "python",
   "name": "python3"
  },
  "language_info": {
   "codemirror_mode": {
    "name": "ipython",
    "version": 3
   },
   "file_extension": ".py",
   "mimetype": "text/x-python",
   "name": "python",
   "nbconvert_exporter": "python",
   "pygments_lexer": "ipython3",
   "version": "3.11.5"
  }
 },
 "nbformat": 4,
 "nbformat_minor": 2
}
